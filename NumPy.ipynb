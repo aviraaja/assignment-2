{
 "cells": [
  {
   "cell_type": "markdown",
   "id": "83719fbd-b0ba-4170-8bde-ebf042992eb0",
   "metadata": {},
   "source": [
    "### Numpy"
   ]
  },
  {
   "cell_type": "code",
   "execution_count": null,
   "id": "36eefad0-2f88-49b4-ab7c-2d31a6d93ace",
   "metadata": {},
   "outputs": [],
   "source": [
    "numpy >> Numerical Python"
   ]
  },
  {
   "cell_type": "code",
   "execution_count": 7,
   "id": "82656dcc-4351-431f-b55f-39ad1cb0d58a",
   "metadata": {},
   "outputs": [],
   "source": [
    "import numpy as np\n",
    "import pandas as pd"
   ]
  },
  {
   "cell_type": "markdown",
   "id": "d12596c3-ab9d-4f52-a1b6-eb4d449d6027",
   "metadata": {},
   "source": [
    "### Application"
   ]
  },
  {
   "cell_type": "code",
   "execution_count": null,
   "id": "573b00fd-0d9a-4861-b95f-57cf2c0f8dbd",
   "metadata": {},
   "outputs": [],
   "source": [
    "1. Linear Algebra\n",
    "2. Statistics\n",
    "3. Trigonometry\n",
    "4. Logarithmic\n",
    "5. Image Processing\n",
    "6. Matrix Operation"
   ]
  },
  {
   "cell_type": "markdown",
   "id": "9b4a7e38-35a0-416d-bc15-e324c7fb186e",
   "metadata": {},
   "source": [
    "### Properties "
   ]
  },
  {
   "cell_type": "code",
   "execution_count": null,
   "id": "b6afe580-9dd1-4ad8-8103-da18d42c3003",
   "metadata": {},
   "outputs": [],
   "source": [
    "1. It is collection of homogeneous datatype\n",
    "2. Numpy is faster than List(Python)\n",
    "3. Numpy is written in C language(partially written in Python)\n",
    "4. C language is always faster than Python \n",
    "5. Mutable >> Add, delete, update\n",
    "\n",
    "int >> float >> complex >> str\n",
    "\n",
    "DataType:\n",
    "    numpy.ndarray >> n-dimensional array"
   ]
  },
  {
   "cell_type": "markdown",
   "id": "07d78a9f-e867-439c-ab5d-d74fa6aee599",
   "metadata": {},
   "source": [
    "### Numpy Functions"
   ]
  },
  {
   "cell_type": "code",
   "execution_count": null,
   "id": "c50191cc-a3ff-41ab-a591-8b0597eea8a5",
   "metadata": {},
   "outputs": [],
   "source": [
    "1. np.array():\n",
    "    np.array(List, dtype = int, ndmin = 2)\n",
    "    np.array(Tuple, dtype = int, ndmin = 2)\n",
    "\n",
    "2. array.ndim\n",
    "3. array.dtype\n",
    "4. Array to List:\n",
    "    array.tolist()\n",
    "    list(array) # 1D\n",
    "5. np.iinfo('int')"
   ]
  },
  {
   "cell_type": "markdown",
   "id": "4a5a25ee-0489-4f3d-896c-602d5b257d4b",
   "metadata": {},
   "source": [
    "### Type Casting in Numpy"
   ]
  },
  {
   "cell_type": "code",
   "execution_count": null,
   "id": "0c5f4040-ada7-4f0c-8bc8-8fdc3593c21c",
   "metadata": {},
   "outputs": [],
   "source": [
    "int >> float\n",
    "float >> int\n",
    "int >> complex\n",
    "float >> complex\n",
    "complex !>> int\n",
    "complex !>> float"
   ]
  },
  {
   "cell_type": "code",
   "execution_count": 193,
   "id": "37272c99-4a0a-4b4d-843a-4cb15769243e",
   "metadata": {},
   "outputs": [
    {
     "data": {
      "text/plain": [
       "array([3, 4, 5, 6, 7])"
      ]
     },
     "execution_count": 193,
     "metadata": {},
     "output_type": "execute_result"
    }
   ],
   "source": [
    "array1 = np.array([3,4,5,6,7])\n",
    "array1"
   ]
  },
  {
   "cell_type": "code",
   "execution_count": 195,
   "id": "a8a94de2-7cae-414a-a10e-27fcf07f7420",
   "metadata": {},
   "outputs": [
    {
     "data": {
      "text/plain": [
       "array([3, 4, 5, 6, 7])"
      ]
     },
     "execution_count": 195,
     "metadata": {},
     "output_type": "execute_result"
    }
   ],
   "source": [
    "array1 = np.array((3,4,5,6,7))\n",
    "array1"
   ]
  },
  {
   "cell_type": "code",
   "execution_count": 197,
   "id": "4646956a-2771-46a2-9a89-209ac4329095",
   "metadata": {},
   "outputs": [
    {
     "data": {
      "text/plain": [
       "array({3, 4, 5, 6, 7}, dtype=object)"
      ]
     },
     "execution_count": 197,
     "metadata": {},
     "output_type": "execute_result"
    }
   ],
   "source": [
    "array1 = np.array({3,4,5,6,7,6,7})\n",
    "array1"
   ]
  },
  {
   "cell_type": "code",
   "execution_count": 12,
   "id": "702470b0-57ae-4c02-bb5f-498ada61e447",
   "metadata": {},
   "outputs": [
    {
     "data": {
      "text/plain": [
       "numpy.ndarray"
      ]
     },
     "execution_count": 12,
     "metadata": {},
     "output_type": "execute_result"
    }
   ],
   "source": [
    "array1 = np.array([3,4,5,6,7])\n",
    "type(array1)"
   ]
  },
  {
   "cell_type": "code",
   "execution_count": 10,
   "id": "867e3b5c-3fea-4378-8777-ad5bd3477e96",
   "metadata": {},
   "outputs": [
    {
     "name": "stdout",
     "output_type": "stream",
     "text": [
      "[3 4 5 6 7]\n"
     ]
    }
   ],
   "source": [
    "array1 = np.array([3,4,5,6,7])\n",
    "print(array1)"
   ]
  },
  {
   "cell_type": "code",
   "execution_count": 15,
   "id": "9cc7d510-6365-4d9f-9f55-8232ee2988af",
   "metadata": {},
   "outputs": [
    {
     "data": {
      "text/plain": [
       "array(['a', 'b', 'c'], dtype='<U1')"
      ]
     },
     "execution_count": 15,
     "metadata": {},
     "output_type": "execute_result"
    }
   ],
   "source": [
    "array1 = np.array(['a','b','c'])\n",
    "array1"
   ]
  },
  {
   "cell_type": "code",
   "execution_count": null,
   "id": "11cfc2cc-64f3-4407-83b2-11d1855b1846",
   "metadata": {},
   "outputs": [],
   "source": [
    "array1 = np.array(['a','b','c'])\n",
    "array1"
   ]
  },
  {
   "cell_type": "code",
   "execution_count": 17,
   "id": "84c7901f-1c01-44bf-90e6-72fb37bcef41",
   "metadata": {},
   "outputs": [
    {
     "data": {
      "text/plain": [
       "['a', 'b', 'c']"
      ]
     },
     "execution_count": 17,
     "metadata": {},
     "output_type": "execute_result"
    }
   ],
   "source": [
    "list1 = ['a','b','c']\n",
    "list1"
   ]
  },
  {
   "cell_type": "code",
   "execution_count": 19,
   "id": "0c546bb8-1664-4f62-a682-0e9ad1365059",
   "metadata": {},
   "outputs": [
    {
     "data": {
      "text/plain": [
       "['a', 'b', 'c', 2, 5, 6, 7, 8.5, 9.23]"
      ]
     },
     "execution_count": 19,
     "metadata": {},
     "output_type": "execute_result"
    }
   ],
   "source": [
    "list1 = ['a','b','c',2,5,6,7,8.5,9.23]\n",
    "list1"
   ]
  },
  {
   "cell_type": "code",
   "execution_count": 21,
   "id": "5bc66790-1743-40d3-be19-d5ba59743df6",
   "metadata": {},
   "outputs": [
    {
     "data": {
      "text/plain": [
       "array([4, 5, 6])"
      ]
     },
     "execution_count": 21,
     "metadata": {},
     "output_type": "execute_result"
    }
   ],
   "source": [
    "array1 = np.array([4,5,6])\n",
    "array1"
   ]
  },
  {
   "cell_type": "code",
   "execution_count": 24,
   "id": "55c0d8f1-d5ae-49c4-bf23-8d34dd78c645",
   "metadata": {},
   "outputs": [
    {
     "data": {
      "text/plain": [
       "array([4. , 5. , 6. , 8.9])"
      ]
     },
     "execution_count": 24,
     "metadata": {},
     "output_type": "execute_result"
    }
   ],
   "source": [
    "array1 = np.array([4,5,6,8.9])\n",
    "array1"
   ]
  },
  {
   "cell_type": "code",
   "execution_count": 22,
   "id": "42d08946-2d19-42cc-b7dd-103011dc1604",
   "metadata": {},
   "outputs": [
    {
     "data": {
      "text/plain": [
       "4.0"
      ]
     },
     "execution_count": 22,
     "metadata": {},
     "output_type": "execute_result"
    }
   ],
   "source": [
    "4."
   ]
  },
  {
   "cell_type": "code",
   "execution_count": 25,
   "id": "2ba1fe2b-6545-492e-bcea-d08c017ac604",
   "metadata": {},
   "outputs": [
    {
     "data": {
      "text/plain": [
       "4.0"
      ]
     },
     "execution_count": 25,
     "metadata": {},
     "output_type": "execute_result"
    }
   ],
   "source": [
    "4.0"
   ]
  },
  {
   "cell_type": "code",
   "execution_count": 26,
   "id": "87749022-511d-4d03-81b3-4a60856d4a42",
   "metadata": {},
   "outputs": [
    {
     "data": {
      "text/plain": [
       "array([4. , 5. , 6. , 8.9])"
      ]
     },
     "execution_count": 26,
     "metadata": {},
     "output_type": "execute_result"
    }
   ],
   "source": [
    "array1 = np.array([4,5,6,8.9])\n",
    "array1"
   ]
  },
  {
   "cell_type": "code",
   "execution_count": 29,
   "id": "2046b458-af9d-4ffd-902c-a08cd0f65dbb",
   "metadata": {},
   "outputs": [
    {
     "data": {
      "text/plain": [
       "array([4.+0.j, 5.+0.j, 6.+0.j, 8.+0.j, 3.+5.j])"
      ]
     },
     "execution_count": 29,
     "metadata": {},
     "output_type": "execute_result"
    }
   ],
   "source": [
    "array1 = np.array([4,5,6,8,3+5j])\n",
    "array1"
   ]
  },
  {
   "cell_type": "code",
   "execution_count": 32,
   "id": "64a61384-02d1-471f-a367-305e65369a57",
   "metadata": {},
   "outputs": [
    {
     "data": {
      "text/plain": [
       "array(['4', '5', '6', '8', '5.6', '10.45'], dtype='<U32')"
      ]
     },
     "execution_count": 32,
     "metadata": {},
     "output_type": "execute_result"
    }
   ],
   "source": [
    "array1 = np.array([4,5,6,8,5.6,'10.45'])\n",
    "array1"
   ]
  },
  {
   "cell_type": "code",
   "execution_count": 34,
   "id": "4f854bb8-912c-45e9-b9a3-f51e343a631b",
   "metadata": {},
   "outputs": [
    {
     "data": {
      "text/plain": [
       "array(['4', '5', '6', '8', '5.6'], dtype='<U32')"
      ]
     },
     "execution_count": 34,
     "metadata": {},
     "output_type": "execute_result"
    }
   ],
   "source": [
    "array1 = np.array([4,'5',6,8,5.6])\n",
    "array1"
   ]
  },
  {
   "cell_type": "code",
   "execution_count": 36,
   "id": "6cebb82e-4528-4e15-9b49-602bdb783c6a",
   "metadata": {},
   "outputs": [
    {
     "data": {
      "text/plain": [
       "array([4. , 5.1, 6. , 8. , 9. ])"
      ]
     },
     "execution_count": 36,
     "metadata": {},
     "output_type": "execute_result"
    }
   ],
   "source": [
    "array1 = np.array([4,5.1,6,8,9])\n",
    "array1"
   ]
  },
  {
   "cell_type": "code",
   "execution_count": 38,
   "id": "3f6e1908-30e0-4523-b365-59da58ed030b",
   "metadata": {},
   "outputs": [
    {
     "data": {
      "text/plain": [
       "array([4. , 5.1, 6. , 8. , 9. ])"
      ]
     },
     "execution_count": 38,
     "metadata": {},
     "output_type": "execute_result"
    }
   ],
   "source": [
    "array1 = np.array([4, 5.1, 6, 8, 9])\n",
    "array1"
   ]
  },
  {
   "cell_type": "code",
   "execution_count": 40,
   "id": "fd3b8892-736b-4a0e-8143-cab8ca7f8664",
   "metadata": {},
   "outputs": [
    {
     "data": {
      "text/plain": [
       "array([4.     , 5.12456, 6.     , 8.     , 9.     ])"
      ]
     },
     "execution_count": 40,
     "metadata": {},
     "output_type": "execute_result"
    }
   ],
   "source": [
    "array1 = np.array([4, 5.12456, 6, 8, 9])\n",
    "array1"
   ]
  },
  {
   "cell_type": "markdown",
   "id": "566f6d1f-0798-4172-9611-9f8cf7f58c77",
   "metadata": {},
   "source": [
    "### Type Casting in Numpy"
   ]
  },
  {
   "cell_type": "code",
   "execution_count": null,
   "id": "a2df675d-1e50-4b40-b28c-c7c08de6d1d8",
   "metadata": {},
   "outputs": [],
   "source": [
    "int >> float\n",
    "float >> int\n",
    "int >> complex\n",
    "float >> complex\n",
    "complex !>> int\n",
    "complex !>> float"
   ]
  },
  {
   "cell_type": "code",
   "execution_count": 44,
   "id": "b7f3d350-0507-420e-a61f-8455d3639f1b",
   "metadata": {},
   "outputs": [
    {
     "data": {
      "text/plain": [
       "dtype('int32')"
      ]
     },
     "execution_count": 44,
     "metadata": {},
     "output_type": "execute_result"
    }
   ],
   "source": [
    "array1 = np.array([4, 5, 6, 8, 9])\n",
    "array1.dtype"
   ]
  },
  {
   "cell_type": "code",
   "execution_count": 47,
   "id": "78c05c46-8f9a-48eb-8760-ed4edd87e683",
   "metadata": {},
   "outputs": [
    {
     "data": {
      "text/plain": [
       "array([4., 5., 6., 8., 9.])"
      ]
     },
     "execution_count": 47,
     "metadata": {},
     "output_type": "execute_result"
    }
   ],
   "source": [
    "array1 = np.array([4, 5, 6, 8, 9], dtype = float)\n",
    "array1"
   ]
  },
  {
   "cell_type": "code",
   "execution_count": 49,
   "id": "c6e417cd-8ffd-4d70-9738-98659d1ce2a0",
   "metadata": {},
   "outputs": [
    {
     "data": {
      "text/plain": [
       "array([4.+0.j, 5.+0.j, 6.+0.j, 8.+0.j, 9.+0.j])"
      ]
     },
     "execution_count": 49,
     "metadata": {},
     "output_type": "execute_result"
    }
   ],
   "source": [
    "array1 = np.array([4, 5, 6, 8, 9], dtype = complex)\n",
    "array1"
   ]
  },
  {
   "cell_type": "code",
   "execution_count": 51,
   "id": "a4effc19-943e-4442-a146-860e91577993",
   "metadata": {},
   "outputs": [
    {
     "data": {
      "text/plain": [
       "array(['4', '5', '6', '8', '9'], dtype='<U1')"
      ]
     },
     "execution_count": 51,
     "metadata": {},
     "output_type": "execute_result"
    }
   ],
   "source": [
    "array1 = np.array([4, 5, 6, 8, 9], dtype = str)\n",
    "array1"
   ]
  },
  {
   "cell_type": "code",
   "execution_count": 53,
   "id": "dd923098-bc40-4910-8052-457fc0aae51e",
   "metadata": {},
   "outputs": [
    {
     "data": {
      "text/plain": [
       "array([4., 5., 6., 8., 9.])"
      ]
     },
     "execution_count": 53,
     "metadata": {},
     "output_type": "execute_result"
    }
   ],
   "source": [
    "array1 = np.array([4, 5, 6, 8, 9], dtype = 'float')\n",
    "array1"
   ]
  },
  {
   "cell_type": "code",
   "execution_count": 55,
   "id": "9e458538-2266-4ae5-bbf9-04e6b77635cc",
   "metadata": {},
   "outputs": [
    {
     "data": {
      "text/plain": [
       "array([4.+0.j, 5.+0.j, 6.+0.j, 8.+0.j, 9.+0.j])"
      ]
     },
     "execution_count": 55,
     "metadata": {},
     "output_type": "execute_result"
    }
   ],
   "source": [
    "array1 = np.array([4, 5, 6, 8, 9], dtype = 'complex')\n",
    "array1"
   ]
  },
  {
   "cell_type": "code",
   "execution_count": 57,
   "id": "f6fa363f-5cd0-4e0d-a52e-697149bb3e36",
   "metadata": {},
   "outputs": [
    {
     "data": {
      "text/plain": [
       "array([4.+0.j, 5.+0.j, 6.+0.j, 8.+0.j, 9.+0.j])"
      ]
     },
     "execution_count": 57,
     "metadata": {},
     "output_type": "execute_result"
    }
   ],
   "source": [
    "array1 = np.array([4, 5, 6, 8, 9], dtype = complex)\n",
    "array1"
   ]
  },
  {
   "cell_type": "code",
   "execution_count": 59,
   "id": "a5e4a32b-e9d6-4fa4-a89b-b9f33e7c8eea",
   "metadata": {},
   "outputs": [
    {
     "data": {
      "text/plain": [
       "array([4.  , 5.45, 6.  , 8.12, 9.  ])"
      ]
     },
     "execution_count": 59,
     "metadata": {},
     "output_type": "execute_result"
    }
   ],
   "source": [
    "array1 = np.array([4, 5.45, 6, 8.12, 9])\n",
    "array1"
   ]
  },
  {
   "cell_type": "code",
   "execution_count": 63,
   "id": "411b7e80-18ad-488b-ac7c-e38f7c083177",
   "metadata": {},
   "outputs": [
    {
     "data": {
      "text/plain": [
       "dtype('float64')"
      ]
     },
     "execution_count": 63,
     "metadata": {},
     "output_type": "execute_result"
    }
   ],
   "source": [
    "array1 = np.array([4, 5.45, 6, 8.12, 9])\n",
    "array1.dtype"
   ]
  },
  {
   "cell_type": "code",
   "execution_count": 64,
   "id": "df4c00bb-97c8-4ecf-97a9-9352098879a0",
   "metadata": {},
   "outputs": [
    {
     "data": {
      "text/plain": [
       "5"
      ]
     },
     "execution_count": 64,
     "metadata": {},
     "output_type": "execute_result"
    }
   ],
   "source": [
    "int(5.45)"
   ]
  },
  {
   "cell_type": "code",
   "execution_count": 67,
   "id": "d5d810b5-ba9f-4b14-b6f4-3bc3bc217fa1",
   "metadata": {},
   "outputs": [
    {
     "data": {
      "text/plain": [
       "array([4, 5, 6, 8, 9])"
      ]
     },
     "execution_count": 67,
     "metadata": {},
     "output_type": "execute_result"
    }
   ],
   "source": [
    "array1 = np.array([4, 5.45, 6, 8.12, 9], dtype = int)\n",
    "array1"
   ]
  },
  {
   "cell_type": "code",
   "execution_count": 69,
   "id": "4e4d5f4b-bf40-476c-bd24-1514b36be1f9",
   "metadata": {},
   "outputs": [
    {
     "data": {
      "text/plain": [
       "array([4.  +0.j, 5.45+0.j, 6.  +0.j, 8.12+0.j, 9.  +0.j])"
      ]
     },
     "execution_count": 69,
     "metadata": {},
     "output_type": "execute_result"
    }
   ],
   "source": [
    "array1 = np.array([4, 5.45, 6, 8.12, 9], dtype = complex)\n",
    "array1"
   ]
  },
  {
   "cell_type": "code",
   "execution_count": 71,
   "id": "6f3a1942-0065-499a-af95-b58723556bfb",
   "metadata": {},
   "outputs": [
    {
     "data": {
      "text/plain": [
       "array([4.  +0.j, 5.  +4.j, 5.  +0.j, 6.  +0.j, 8.12+0.j, 9.  +0.j])"
      ]
     },
     "execution_count": 71,
     "metadata": {},
     "output_type": "execute_result"
    }
   ],
   "source": [
    "array1 = np.array([4, 5 +4j, 5, 6, 8.12, 9])\n",
    "array1"
   ]
  },
  {
   "cell_type": "code",
   "execution_count": 74,
   "id": "1770abd6-1591-420d-8133-07da9af278d4",
   "metadata": {},
   "outputs": [
    {
     "data": {
      "text/plain": [
       "dtype('complex128')"
      ]
     },
     "execution_count": 74,
     "metadata": {},
     "output_type": "execute_result"
    }
   ],
   "source": [
    "array1 = np.array([4, 5 +4j, 5, 6, 8.12, 9])\n",
    "array1.dtype"
   ]
  },
  {
   "cell_type": "code",
   "execution_count": 77,
   "id": "203476e7-541e-4f69-8527-822b9d6ee6ec",
   "metadata": {},
   "outputs": [
    {
     "ename": "TypeError",
     "evalue": "int() argument must be a string, a bytes-like object or a real number, not 'complex'",
     "output_type": "error",
     "traceback": [
      "\u001b[1;31m---------------------------------------------------------------------------\u001b[0m",
      "\u001b[1;31mTypeError\u001b[0m                                 Traceback (most recent call last)",
      "Cell \u001b[1;32mIn[77], line 2\u001b[0m\n\u001b[0;32m      1\u001b[0m x \u001b[38;5;241m=\u001b[39m \u001b[38;5;241m2\u001b[39m \u001b[38;5;241m+\u001b[39m \u001b[38;5;241m5\u001b[39mj\n\u001b[1;32m----> 2\u001b[0m \u001b[38;5;28;43mint\u001b[39;49m\u001b[43m(\u001b[49m\u001b[43mx\u001b[49m\u001b[43m)\u001b[49m\n",
      "\u001b[1;31mTypeError\u001b[0m: int() argument must be a string, a bytes-like object or a real number, not 'complex'"
     ]
    }
   ],
   "source": [
    "x = 2 + 5j\n",
    "int(x)"
   ]
  },
  {
   "cell_type": "code",
   "execution_count": 79,
   "id": "fa704d69-0af4-49f6-889f-a2f84e6eabef",
   "metadata": {},
   "outputs": [
    {
     "ename": "TypeError",
     "evalue": "float() argument must be a string or a real number, not 'complex'",
     "output_type": "error",
     "traceback": [
      "\u001b[1;31m---------------------------------------------------------------------------\u001b[0m",
      "\u001b[1;31mTypeError\u001b[0m                                 Traceback (most recent call last)",
      "Cell \u001b[1;32mIn[79], line 2\u001b[0m\n\u001b[0;32m      1\u001b[0m x \u001b[38;5;241m=\u001b[39m \u001b[38;5;241m2\u001b[39m \u001b[38;5;241m+\u001b[39m \u001b[38;5;241m5\u001b[39mj\n\u001b[1;32m----> 2\u001b[0m \u001b[38;5;28;43mfloat\u001b[39;49m\u001b[43m(\u001b[49m\u001b[43mx\u001b[49m\u001b[43m)\u001b[49m\n",
      "\u001b[1;31mTypeError\u001b[0m: float() argument must be a string or a real number, not 'complex'"
     ]
    }
   ],
   "source": [
    "x = 2 + 5j\n",
    "float(x)"
   ]
  },
  {
   "cell_type": "code",
   "execution_count": 81,
   "id": "b29c4daa-6ec1-4bce-9426-7f641d88b622",
   "metadata": {},
   "outputs": [
    {
     "data": {
      "text/plain": [
       "3456.67"
      ]
     },
     "execution_count": 81,
     "metadata": {},
     "output_type": "execute_result"
    }
   ],
   "source": [
    "x = '3456.67'\n",
    "float(x)"
   ]
  },
  {
   "cell_type": "code",
   "execution_count": 83,
   "id": "6f31b52e-9a5a-4900-8d09-83ad076fbb67",
   "metadata": {},
   "outputs": [
    {
     "ename": "TypeError",
     "evalue": "int() argument must be a string, a bytes-like object or a real number, not 'complex'",
     "output_type": "error",
     "traceback": [
      "\u001b[1;31m---------------------------------------------------------------------------\u001b[0m",
      "\u001b[1;31mTypeError\u001b[0m                                 Traceback (most recent call last)",
      "Cell \u001b[1;32mIn[83], line 1\u001b[0m\n\u001b[1;32m----> 1\u001b[0m array1 \u001b[38;5;241m=\u001b[39m \u001b[43mnp\u001b[49m\u001b[38;5;241;43m.\u001b[39;49m\u001b[43marray\u001b[49m\u001b[43m(\u001b[49m\u001b[43m[\u001b[49m\u001b[38;5;241;43m4\u001b[39;49m\u001b[43m,\u001b[49m\u001b[43m \u001b[49m\u001b[38;5;241;43m5\u001b[39;49m\u001b[43m \u001b[49m\u001b[38;5;241;43m+\u001b[39;49m\u001b[38;5;241;43m4\u001b[39;49m\u001b[43mj\u001b[49m\u001b[43m,\u001b[49m\u001b[43m \u001b[49m\u001b[38;5;241;43m5\u001b[39;49m\u001b[43m,\u001b[49m\u001b[43m \u001b[49m\u001b[38;5;241;43m6\u001b[39;49m\u001b[43m,\u001b[49m\u001b[43m \u001b[49m\u001b[38;5;241;43m8.12\u001b[39;49m\u001b[43m,\u001b[49m\u001b[43m \u001b[49m\u001b[38;5;241;43m9\u001b[39;49m\u001b[43m]\u001b[49m\u001b[43m,\u001b[49m\u001b[43m \u001b[49m\u001b[43mdtype\u001b[49m\u001b[43m \u001b[49m\u001b[38;5;241;43m=\u001b[39;49m\u001b[43m \u001b[49m\u001b[38;5;28;43mint\u001b[39;49m\u001b[43m)\u001b[49m\n\u001b[0;32m      2\u001b[0m array1\n",
      "\u001b[1;31mTypeError\u001b[0m: int() argument must be a string, a bytes-like object or a real number, not 'complex'"
     ]
    }
   ],
   "source": [
    "array1 = np.array([4, 5 +4j, 5, 6, 8.12, 9], dtype = int)\n",
    "array1"
   ]
  },
  {
   "cell_type": "code",
   "execution_count": 85,
   "id": "5d28a0b4-2454-4b6d-9309-f3884591db6a",
   "metadata": {},
   "outputs": [
    {
     "data": {
      "text/plain": [
       "array(['4', '(5+4j)', '5', '6', '8.12', '9'], dtype='<U6')"
      ]
     },
     "execution_count": 85,
     "metadata": {},
     "output_type": "execute_result"
    }
   ],
   "source": [
    "array1 = np.array([4, 5 +4j, 5, 6, 8.12, 9], dtype = str)\n",
    "array1"
   ]
  },
  {
   "cell_type": "code",
   "execution_count": null,
   "id": "b96327fb-7bbb-4618-92c4-997f26ea8780",
   "metadata": {},
   "outputs": [],
   "source": []
  },
  {
   "cell_type": "markdown",
   "id": "9e760eab-a87e-42fb-ab92-411ed17623af",
   "metadata": {},
   "source": [
    "### array.ndim"
   ]
  },
  {
   "cell_type": "code",
   "execution_count": 88,
   "id": "29815197-32e3-4bf7-903f-32506bb5ef18",
   "metadata": {},
   "outputs": [
    {
     "data": {
      "text/plain": [
       "array([2, 3, 4, 5, 6, 7])"
      ]
     },
     "execution_count": 88,
     "metadata": {},
     "output_type": "execute_result"
    }
   ],
   "source": [
    "arr1 = np.array([2,3,4,5,6,7])\n",
    "arr1"
   ]
  },
  {
   "cell_type": "code",
   "execution_count": 92,
   "id": "8813e994-871e-4f45-a42a-b67b03f63aa0",
   "metadata": {},
   "outputs": [
    {
     "data": {
      "text/plain": [
       "2"
      ]
     },
     "execution_count": 92,
     "metadata": {},
     "output_type": "execute_result"
    }
   ],
   "source": [
    "arr1.ndim"
   ]
  },
  {
   "cell_type": "code",
   "execution_count": 93,
   "id": "e131e501-c85c-4860-bbb6-64bf8285a32a",
   "metadata": {},
   "outputs": [
    {
     "data": {
      "text/plain": [
       "[[2, 3, 4], [5, 6, 7]]"
      ]
     },
     "execution_count": 93,
     "metadata": {},
     "output_type": "execute_result"
    }
   ],
   "source": [
    "x = [[2,3,4],[5,6,7]]\n",
    "x"
   ]
  },
  {
   "cell_type": "code",
   "execution_count": 94,
   "id": "cc1d08da-67af-4bdf-b5a0-d477a61f6324",
   "metadata": {},
   "outputs": [
    {
     "data": {
      "text/plain": [
       "array([[2, 3, 4],\n",
       "       [5, 6, 7]])"
      ]
     },
     "execution_count": 94,
     "metadata": {},
     "output_type": "execute_result"
    }
   ],
   "source": [
    "arr1 = np.array([[2,3,4],[5,6,7]])\n",
    "arr1"
   ]
  },
  {
   "cell_type": "code",
   "execution_count": 96,
   "id": "26986d15-c2e2-40c3-ab4a-29a0c30b9b01",
   "metadata": {},
   "outputs": [
    {
     "data": {
      "text/plain": [
       "2"
      ]
     },
     "execution_count": 96,
     "metadata": {},
     "output_type": "execute_result"
    }
   ],
   "source": [
    "arr1 = np.array([[2,3,4],[5,6,7]])\n",
    "arr1.ndim"
   ]
  },
  {
   "cell_type": "code",
   "execution_count": 99,
   "id": "7f50e92b-e6bb-4632-be44-6c5b96aec886",
   "metadata": {},
   "outputs": [
    {
     "data": {
      "text/plain": [
       "array([[[2, 3, 4],\n",
       "        [5, 6, 7]]])"
      ]
     },
     "execution_count": 99,
     "metadata": {},
     "output_type": "execute_result"
    }
   ],
   "source": [
    "arr1 = np.array([[[2,3,4],[5,6,7]]])\n",
    "arr1"
   ]
  },
  {
   "cell_type": "code",
   "execution_count": 101,
   "id": "b53a6638-f3e9-4878-adbf-c14f438c91f9",
   "metadata": {},
   "outputs": [
    {
     "data": {
      "text/plain": [
       "3"
      ]
     },
     "execution_count": 101,
     "metadata": {},
     "output_type": "execute_result"
    }
   ],
   "source": [
    "arr1 = np.array([[[2,3,4],[5,6,7]]])\n",
    "arr1.ndim"
   ]
  },
  {
   "cell_type": "code",
   "execution_count": 103,
   "id": "cc8138d6-8f4a-43a0-a74f-1ae8324e1d15",
   "metadata": {},
   "outputs": [
    {
     "data": {
      "text/plain": [
       "0"
      ]
     },
     "execution_count": 103,
     "metadata": {},
     "output_type": "execute_result"
    }
   ],
   "source": [
    "arr1 = np.array(15)\n",
    "arr1.ndim"
   ]
  },
  {
   "cell_type": "code",
   "execution_count": 105,
   "id": "243da914-41a6-4fa8-9f78-471219b82b50",
   "metadata": {},
   "outputs": [
    {
     "ename": "TypeError",
     "evalue": "Cannot interpret '30' as a data type",
     "output_type": "error",
     "traceback": [
      "\u001b[1;31m---------------------------------------------------------------------------\u001b[0m",
      "\u001b[1;31mTypeError\u001b[0m                                 Traceback (most recent call last)",
      "Cell \u001b[1;32mIn[105], line 1\u001b[0m\n\u001b[1;32m----> 1\u001b[0m arr1 \u001b[38;5;241m=\u001b[39m \u001b[43mnp\u001b[49m\u001b[38;5;241;43m.\u001b[39;49m\u001b[43marray\u001b[49m\u001b[43m(\u001b[49m\u001b[38;5;241;43m15\u001b[39;49m\u001b[43m,\u001b[49m\u001b[38;5;241;43m30\u001b[39;49m\u001b[43m)\u001b[49m\n\u001b[0;32m      2\u001b[0m arr1\u001b[38;5;241m.\u001b[39mndim\n",
      "\u001b[1;31mTypeError\u001b[0m: Cannot interpret '30' as a data type"
     ]
    }
   ],
   "source": [
    "arr1 = np.array(15,30)\n",
    "arr1.ndim"
   ]
  },
  {
   "cell_type": "code",
   "execution_count": 107,
   "id": "82f4d03c-a0e4-46b9-acd5-2f14537c9865",
   "metadata": {},
   "outputs": [
    {
     "data": {
      "text/plain": [
       "1"
      ]
     },
     "execution_count": 107,
     "metadata": {},
     "output_type": "execute_result"
    }
   ],
   "source": [
    "arr1 = np.array([15,30])\n",
    "arr1.ndim"
   ]
  },
  {
   "cell_type": "code",
   "execution_count": 109,
   "id": "87700f16-a58a-4e7b-a6f5-363532aba7ad",
   "metadata": {},
   "outputs": [
    {
     "data": {
      "text/plain": [
       "array([15, 30,  5,  6,  7])"
      ]
     },
     "execution_count": 109,
     "metadata": {},
     "output_type": "execute_result"
    }
   ],
   "source": [
    "arr1 = np.array([15,30,5,6,7])\n",
    "arr1"
   ]
  },
  {
   "cell_type": "code",
   "execution_count": 112,
   "id": "40a5b4a5-cc28-49e8-b7d7-823473e20a10",
   "metadata": {},
   "outputs": [
    {
     "name": "stdout",
     "output_type": "stream",
     "text": [
      "Number of dimensions : 2\n"
     ]
    },
    {
     "data": {
      "text/plain": [
       "array([[15, 30,  5,  6,  7]])"
      ]
     },
     "execution_count": 112,
     "metadata": {},
     "output_type": "execute_result"
    }
   ],
   "source": [
    "arr1 = np.array([[15,30,5,6,7]])\n",
    "print(\"Number of dimensions :\",arr1.ndim)\n",
    "arr1"
   ]
  },
  {
   "cell_type": "code",
   "execution_count": 114,
   "id": "787d2cc9-0c18-4903-ad62-68b0222e8ee6",
   "metadata": {},
   "outputs": [
    {
     "name": "stdout",
     "output_type": "stream",
     "text": [
      "Number of dimensions : 1\n"
     ]
    },
    {
     "data": {
      "text/plain": [
       "array([15, 30,  5,  6,  7])"
      ]
     },
     "execution_count": 114,
     "metadata": {},
     "output_type": "execute_result"
    }
   ],
   "source": [
    "arr1 = np.array([15,30,5,6,7])\n",
    "print(\"Number of dimensions :\",arr1.ndim)\n",
    "arr1"
   ]
  },
  {
   "cell_type": "code",
   "execution_count": 116,
   "id": "186b4044-d063-43d8-9129-ea2c02533932",
   "metadata": {},
   "outputs": [
    {
     "name": "stdout",
     "output_type": "stream",
     "text": [
      "Number of dimensions : 3\n"
     ]
    },
    {
     "data": {
      "text/plain": [
       "array([[[15, 30,  5,  6,  7]]])"
      ]
     },
     "execution_count": 116,
     "metadata": {},
     "output_type": "execute_result"
    }
   ],
   "source": [
    "arr1 = np.array([15,30,5,6,7], ndmin = 3)\n",
    "print(\"Number of dimensions :\",arr1.ndim)\n",
    "arr1"
   ]
  },
  {
   "cell_type": "code",
   "execution_count": 118,
   "id": "916ec052-079d-4532-9ab7-c72f91218eba",
   "metadata": {},
   "outputs": [
    {
     "name": "stdout",
     "output_type": "stream",
     "text": [
      "Number of dimensions : 2\n"
     ]
    },
    {
     "data": {
      "text/plain": [
       "array([[15, 30,  5,  6,  7]])"
      ]
     },
     "execution_count": 118,
     "metadata": {},
     "output_type": "execute_result"
    }
   ],
   "source": [
    "arr1 = np.array([15,30,5,6,7], ndmin = 2)\n",
    "print(\"Number of dimensions :\",arr1.ndim)\n",
    "arr1"
   ]
  },
  {
   "cell_type": "code",
   "execution_count": 120,
   "id": "d9bf1306-b970-49c1-be6b-6ac1f9bde7bf",
   "metadata": {},
   "outputs": [
    {
     "name": "stdout",
     "output_type": "stream",
     "text": [
      "Number of dimensions : 1\n"
     ]
    },
    {
     "data": {
      "text/plain": [
       "array([15, 30,  5,  6,  7])"
      ]
     },
     "execution_count": 120,
     "metadata": {},
     "output_type": "execute_result"
    }
   ],
   "source": [
    "arr1 = np.array([15,30,5,6,7], ndmin = 0)\n",
    "print(\"Number of dimensions :\",arr1.ndim)\n",
    "arr1"
   ]
  },
  {
   "cell_type": "code",
   "execution_count": 122,
   "id": "64de1e7d-6546-45c7-9e07-304684de4023",
   "metadata": {},
   "outputs": [
    {
     "name": "stdout",
     "output_type": "stream",
     "text": [
      "Number of dimensions : 2\n"
     ]
    },
    {
     "data": {
      "text/plain": [
       "array([[15, 30],\n",
       "       [ 5,  6]])"
      ]
     },
     "execution_count": 122,
     "metadata": {},
     "output_type": "execute_result"
    }
   ],
   "source": [
    "arr1 = np.array([[15,30],[5,6]])\n",
    "print(\"Number of dimensions :\",arr1.ndim)\n",
    "arr1"
   ]
  },
  {
   "cell_type": "code",
   "execution_count": 124,
   "id": "30545039-4c2c-46e4-8152-98c2cba3adc7",
   "metadata": {},
   "outputs": [
    {
     "name": "stdout",
     "output_type": "stream",
     "text": [
      "Number of dimensions : 2\n"
     ]
    },
    {
     "data": {
      "text/plain": [
       "array([[15, 30],\n",
       "       [ 5,  6]])"
      ]
     },
     "execution_count": 124,
     "metadata": {},
     "output_type": "execute_result"
    }
   ],
   "source": [
    "arr1 = np.array([[15,30],[5,6]], ndmin = 1)\n",
    "print(\"Number of dimensions :\",arr1.ndim)\n",
    "arr1"
   ]
  },
  {
   "cell_type": "code",
   "execution_count": 126,
   "id": "d94028bf-3f9b-4123-9cbd-a758f24f8236",
   "metadata": {},
   "outputs": [
    {
     "name": "stdout",
     "output_type": "stream",
     "text": [
      "Number of dimensions : 4\n"
     ]
    },
    {
     "data": {
      "text/plain": [
       "array([[[[15, 30],\n",
       "         [ 5,  6]]]])"
      ]
     },
     "execution_count": 126,
     "metadata": {},
     "output_type": "execute_result"
    }
   ],
   "source": [
    "arr1 = np.array([[15,30],[5,6]], ndmin = 4)\n",
    "print(\"Number of dimensions :\",arr1.ndim)\n",
    "arr1"
   ]
  },
  {
   "cell_type": "code",
   "execution_count": 130,
   "id": "c743dc29-58e5-4408-afac-ef5a59722ec3",
   "metadata": {},
   "outputs": [
    {
     "data": {
      "text/plain": [
       "array([[15, 30],\n",
       "       [ 5,  6],\n",
       "       [10, 20]])"
      ]
     },
     "execution_count": 130,
     "metadata": {},
     "output_type": "execute_result"
    }
   ],
   "source": [
    "arr1 = np.array([[15,30],[5,6],[10,20]])\n",
    "arr1"
   ]
  },
  {
   "cell_type": "code",
   "execution_count": 132,
   "id": "b0d02aab-e05f-4c1b-befd-3c82a7fbf32d",
   "metadata": {},
   "outputs": [
    {
     "data": {
      "text/plain": [
       "array([[15, 30],\n",
       "       [ 5,  6],\n",
       "       [10, 20],\n",
       "       [ 7,  8]])"
      ]
     },
     "execution_count": 132,
     "metadata": {},
     "output_type": "execute_result"
    }
   ],
   "source": [
    "arr1 = np.array([[15,30],[5,6],[10,20],[7,8]])\n",
    "arr1"
   ]
  },
  {
   "cell_type": "code",
   "execution_count": 134,
   "id": "e105c198-4dd2-4394-8767-9b5abd2acdf6",
   "metadata": {},
   "outputs": [
    {
     "ename": "ValueError",
     "evalue": "setting an array element with a sequence. The requested array has an inhomogeneous shape after 1 dimensions. The detected shape was (4,) + inhomogeneous part.",
     "output_type": "error",
     "traceback": [
      "\u001b[1;31m---------------------------------------------------------------------------\u001b[0m",
      "\u001b[1;31mValueError\u001b[0m                                Traceback (most recent call last)",
      "Cell \u001b[1;32mIn[134], line 1\u001b[0m\n\u001b[1;32m----> 1\u001b[0m arr1 \u001b[38;5;241m=\u001b[39m \u001b[43mnp\u001b[49m\u001b[38;5;241;43m.\u001b[39;49m\u001b[43marray\u001b[49m\u001b[43m(\u001b[49m\u001b[43m[\u001b[49m\u001b[43m[\u001b[49m\u001b[38;5;241;43m15\u001b[39;49m\u001b[43m,\u001b[49m\u001b[38;5;241;43m30\u001b[39;49m\u001b[43m]\u001b[49m\u001b[43m,\u001b[49m\u001b[43m[\u001b[49m\u001b[38;5;241;43m5\u001b[39;49m\u001b[43m,\u001b[49m\u001b[38;5;241;43m6\u001b[39;49m\u001b[43m]\u001b[49m\u001b[43m,\u001b[49m\u001b[43m[\u001b[49m\u001b[38;5;241;43m10\u001b[39;49m\u001b[43m,\u001b[49m\u001b[38;5;241;43m20\u001b[39;49m\u001b[43m]\u001b[49m\u001b[43m,\u001b[49m\u001b[43m[\u001b[49m\u001b[38;5;241;43m7\u001b[39;49m\u001b[43m,\u001b[49m\u001b[38;5;241;43m8\u001b[39;49m\u001b[43m,\u001b[49m\u001b[38;5;241;43m9\u001b[39;49m\u001b[43m]\u001b[49m\u001b[43m]\u001b[49m\u001b[43m)\u001b[49m\n\u001b[0;32m      2\u001b[0m arr1\n",
      "\u001b[1;31mValueError\u001b[0m: setting an array element with a sequence. The requested array has an inhomogeneous shape after 1 dimensions. The detected shape was (4,) + inhomogeneous part."
     ]
    }
   ],
   "source": [
    "arr1 = np.array([[15,30],[5,6],[10,20],[7,8,9]])\n",
    "arr1"
   ]
  },
  {
   "cell_type": "code",
   "execution_count": null,
   "id": "5405e469-4637-4d23-8b7e-98b763632d8e",
   "metadata": {},
   "outputs": [],
   "source": []
  },
  {
   "cell_type": "code",
   "execution_count": null,
   "id": "8f60ec4a-60cf-4b4e-af5c-8d85b70158c1",
   "metadata": {},
   "outputs": [],
   "source": [
    "[[15, 30],\n",
    "[ 5,  6,  8],\n",
    "[10, 20],\n",
    "[ 7,  8]]"
   ]
  },
  {
   "cell_type": "code",
   "execution_count": 136,
   "id": "578f069e-4ff0-40d7-a1a9-42fe11af075b",
   "metadata": {},
   "outputs": [
    {
     "ename": "ValueError",
     "evalue": "setting an array element with a sequence. The requested array has an inhomogeneous shape after 1 dimensions. The detected shape was (4,) + inhomogeneous part.",
     "output_type": "error",
     "traceback": [
      "\u001b[1;31m---------------------------------------------------------------------------\u001b[0m",
      "\u001b[1;31mValueError\u001b[0m                                Traceback (most recent call last)",
      "Cell \u001b[1;32mIn[136], line 1\u001b[0m\n\u001b[1;32m----> 1\u001b[0m arr1 \u001b[38;5;241m=\u001b[39m \u001b[43mnp\u001b[49m\u001b[38;5;241;43m.\u001b[39;49m\u001b[43marray\u001b[49m\u001b[43m(\u001b[49m\u001b[43m[\u001b[49m\u001b[43m[\u001b[49m\u001b[38;5;241;43m15\u001b[39;49m\u001b[43m,\u001b[49m\u001b[38;5;241;43m30\u001b[39;49m\u001b[43m]\u001b[49m\u001b[43m,\u001b[49m\u001b[43m[\u001b[49m\u001b[38;5;241;43m5\u001b[39;49m\u001b[43m,\u001b[49m\u001b[38;5;241;43m6\u001b[39;49m\u001b[43m]\u001b[49m\u001b[43m,\u001b[49m\u001b[43m[\u001b[49m\u001b[38;5;241;43m10\u001b[39;49m\u001b[43m,\u001b[49m\u001b[38;5;241;43m20\u001b[39;49m\u001b[43m]\u001b[49m\u001b[43m,\u001b[49m\u001b[43m[\u001b[49m\u001b[38;5;241;43m7\u001b[39;49m\u001b[43m]\u001b[49m\u001b[43m]\u001b[49m\u001b[43m)\u001b[49m\n\u001b[0;32m      2\u001b[0m arr1\n",
      "\u001b[1;31mValueError\u001b[0m: setting an array element with a sequence. The requested array has an inhomogeneous shape after 1 dimensions. The detected shape was (4,) + inhomogeneous part."
     ]
    }
   ],
   "source": [
    "arr1 = np.array([[15,30],[5,6],[10,20],[7]])\n",
    "arr1"
   ]
  },
  {
   "cell_type": "code",
   "execution_count": 137,
   "id": "95c5c4c7-7a63-4e29-8435-71302ed9fc92",
   "metadata": {},
   "outputs": [
    {
     "ename": "ValueError",
     "evalue": "setting an array element with a sequence. The requested array has an inhomogeneous shape after 1 dimensions. The detected shape was (4,) + inhomogeneous part.",
     "output_type": "error",
     "traceback": [
      "\u001b[1;31m---------------------------------------------------------------------------\u001b[0m",
      "\u001b[1;31mValueError\u001b[0m                                Traceback (most recent call last)",
      "Cell \u001b[1;32mIn[137], line 1\u001b[0m\n\u001b[1;32m----> 1\u001b[0m arr1 \u001b[38;5;241m=\u001b[39m \u001b[43mnp\u001b[49m\u001b[38;5;241;43m.\u001b[39;49m\u001b[43marray\u001b[49m\u001b[43m(\u001b[49m\u001b[43m[\u001b[49m\u001b[43m[\u001b[49m\u001b[38;5;241;43m15\u001b[39;49m\u001b[43m,\u001b[49m\u001b[38;5;241;43m30\u001b[39;49m\u001b[43m]\u001b[49m\u001b[43m,\u001b[49m\u001b[43m[\u001b[49m\u001b[38;5;241;43m5\u001b[39;49m\u001b[43m,\u001b[49m\u001b[38;5;241;43m6\u001b[39;49m\u001b[43m]\u001b[49m\u001b[43m,\u001b[49m\u001b[43m[\u001b[49m\u001b[38;5;241;43m10\u001b[39;49m\u001b[43m,\u001b[49m\u001b[38;5;241;43m20\u001b[39;49m\u001b[43m]\u001b[49m\u001b[43m,\u001b[49m\u001b[43m[\u001b[49m\u001b[38;5;241;43m7\u001b[39;49m\u001b[43m]\u001b[49m\u001b[43m]\u001b[49m\u001b[43m)\u001b[49m\n\u001b[0;32m      2\u001b[0m arr1\n",
      "\u001b[1;31mValueError\u001b[0m: setting an array element with a sequence. The requested array has an inhomogeneous shape after 1 dimensions. The detected shape was (4,) + inhomogeneous part."
     ]
    }
   ],
   "source": [
    "arr1 = np.array([[15,30],[5,6],[10,20],[7]])\n",
    "arr1"
   ]
  },
  {
   "cell_type": "code",
   "execution_count": 138,
   "id": "4f6183d0-5760-4572-bee5-496c9010430a",
   "metadata": {},
   "outputs": [
    {
     "data": {
      "text/plain": [
       "0"
      ]
     },
     "execution_count": 138,
     "metadata": {},
     "output_type": "execute_result"
    }
   ],
   "source": [
    "a1 = np.array(5)\n",
    "a1.ndim"
   ]
  },
  {
   "cell_type": "code",
   "execution_count": 139,
   "id": "9d89fb00-0676-4969-8639-dfa0af87149d",
   "metadata": {},
   "outputs": [
    {
     "data": {
      "text/plain": [
       "1"
      ]
     },
     "execution_count": 139,
     "metadata": {},
     "output_type": "execute_result"
    }
   ],
   "source": [
    "a1 = np.array([5,7,8,9,2])\n",
    "a1.ndim"
   ]
  },
  {
   "cell_type": "code",
   "execution_count": 141,
   "id": "48d6c800-1de0-47fe-8f74-740cdd93b445",
   "metadata": {},
   "outputs": [
    {
     "data": {
      "text/plain": [
       "2"
      ]
     },
     "execution_count": 141,
     "metadata": {},
     "output_type": "execute_result"
    }
   ],
   "source": [
    "a1 = np.array([[5,7,8,9,2],[50,70,80,90,20]])\n",
    "a1.ndim"
   ]
  },
  {
   "cell_type": "code",
   "execution_count": 143,
   "id": "41d7a14f-34c0-424a-a650-b6d2eea0f33f",
   "metadata": {},
   "outputs": [
    {
     "data": {
      "text/plain": [
       "2"
      ]
     },
     "execution_count": 143,
     "metadata": {},
     "output_type": "execute_result"
    }
   ],
   "source": [
    "a1 = np.array([[5,7,8,9,2],[50,70,80,90,20],[500,700,800,900,200]])\n",
    "a1.ndim"
   ]
  },
  {
   "cell_type": "code",
   "execution_count": 145,
   "id": "dc7657e2-50cb-461c-b4f5-8bef371324bf",
   "metadata": {},
   "outputs": [
    {
     "data": {
      "text/plain": [
       "array([[  5,   7,   8,   9,   2],\n",
       "       [ 50,  70,  80,  90,  20],\n",
       "       [500, 700, 800, 900, 200]])"
      ]
     },
     "execution_count": 145,
     "metadata": {},
     "output_type": "execute_result"
    }
   ],
   "source": [
    "a1 = np.array([[5,7,8,9,2],[50,70,80,90,20],[500,700,800,900,200]])\n",
    "a1"
   ]
  },
  {
   "cell_type": "code",
   "execution_count": 147,
   "id": "7b3a7ffd-3df0-4d14-a988-c5b4190c84e2",
   "metadata": {},
   "outputs": [
    {
     "data": {
      "text/plain": [
       "3"
      ]
     },
     "execution_count": 147,
     "metadata": {},
     "output_type": "execute_result"
    }
   ],
   "source": [
    "a1 = np.array([[[5,7,8,9,2],[50,70,80,90,20]],[[51,71,81,91,21],[501,710,810,901,210]]])\n",
    "a1.ndim"
   ]
  },
  {
   "cell_type": "code",
   "execution_count": 149,
   "id": "566802b0-61e8-4ece-a46d-aa4d9728ef44",
   "metadata": {},
   "outputs": [
    {
     "data": {
      "text/plain": [
       "array([[[  5,   7,   8,   9,   2],\n",
       "        [ 50,  70,  80,  90,  20]],\n",
       "\n",
       "       [[ 51,  71,  81,  91,  21],\n",
       "        [501, 710, 810, 901, 210]]])"
      ]
     },
     "execution_count": 149,
     "metadata": {},
     "output_type": "execute_result"
    }
   ],
   "source": [
    "a1 = np.array([[[5,7,8,9,2],[50,70,80,90,20]],[[51,71,81,91,21],[501,710,810,901,210]]])\n",
    "a1"
   ]
  },
  {
   "cell_type": "code",
   "execution_count": 199,
   "id": "02e245bd-ef7f-4a15-a9a1-8fbcb2d02068",
   "metadata": {},
   "outputs": [
    {
     "data": {
      "text/plain": [
       "[12, 14, 15, 17, 19, 30]"
      ]
     },
     "execution_count": 199,
     "metadata": {},
     "output_type": "execute_result"
    }
   ],
   "source": []
  },
  {
   "cell_type": "code",
   "execution_count": 203,
   "id": "71f29c58-8744-4138-aa75-39414a24af70",
   "metadata": {},
   "outputs": [
    {
     "data": {
      "text/plain": [
       "1"
      ]
     },
     "execution_count": 203,
     "metadata": {},
     "output_type": "execute_result"
    }
   ],
   "source": [
    "a1 = np.array([5,7,8,9,2])\n",
    "a1.ndim"
   ]
  },
  {
   "cell_type": "code",
   "execution_count": 205,
   "id": "a711e4de-56a9-4e91-afa9-ac4439d6afaa",
   "metadata": {},
   "outputs": [
    {
     "data": {
      "text/plain": [
       "(5,)"
      ]
     },
     "execution_count": 205,
     "metadata": {},
     "output_type": "execute_result"
    }
   ],
   "source": [
    "a1 = np.array([5,7,8,9,2])\n",
    "a1.shape"
   ]
  },
  {
   "cell_type": "code",
   "execution_count": 206,
   "id": "98d38b86-f79f-41c7-b6a5-37cf6de11789",
   "metadata": {},
   "outputs": [
    {
     "data": {
      "text/plain": [
       "array([[5, 7, 8],\n",
       "       [9, 2, 4]])"
      ]
     },
     "execution_count": 206,
     "metadata": {},
     "output_type": "execute_result"
    }
   ],
   "source": [
    "a1 = np.array([[5,7,8],[9,2,4]])\n",
    "a1"
   ]
  },
  {
   "cell_type": "code",
   "execution_count": 208,
   "id": "58703901-e68f-4035-85a7-ef22d767dedb",
   "metadata": {},
   "outputs": [
    {
     "data": {
      "text/plain": [
       "2"
      ]
     },
     "execution_count": 208,
     "metadata": {},
     "output_type": "execute_result"
    }
   ],
   "source": [
    "a1 = np.array([[5,7,8],[9,2,4]])\n",
    "a1.ndim"
   ]
  },
  {
   "cell_type": "code",
   "execution_count": 211,
   "id": "4929e746-fec6-4692-9385-3eabb2d43866",
   "metadata": {},
   "outputs": [
    {
     "data": {
      "text/plain": [
       "(2, 3)"
      ]
     },
     "execution_count": 211,
     "metadata": {},
     "output_type": "execute_result"
    }
   ],
   "source": [
    "a1.shape"
   ]
  },
  {
   "cell_type": "code",
   "execution_count": null,
   "id": "0a71d560-17b7-4ca5-a0bd-316df941f6c5",
   "metadata": {},
   "outputs": [],
   "source": []
  },
  {
   "cell_type": "code",
   "execution_count": 213,
   "id": "e66606d2-a97d-4000-9f8b-2eff9038e352",
   "metadata": {},
   "outputs": [
    {
     "data": {
      "text/plain": [
       "array([[  5,   7,   8,   9,   2],\n",
       "       [ 50,  70,  80,  90,  20],\n",
       "       [500, 700, 800, 900, 200]])"
      ]
     },
     "execution_count": 213,
     "metadata": {},
     "output_type": "execute_result"
    }
   ],
   "source": [
    "a1 = np.array([[5,7,8,9,2],[50,70,80,90,20],[500,700,800,900,200]])\n",
    "a1"
   ]
  },
  {
   "cell_type": "code",
   "execution_count": 215,
   "id": "6172cfc5-624c-480c-a77e-c6affd6c03da",
   "metadata": {},
   "outputs": [
    {
     "data": {
      "text/plain": [
       "2"
      ]
     },
     "execution_count": 215,
     "metadata": {},
     "output_type": "execute_result"
    }
   ],
   "source": [
    "a1.ndim"
   ]
  },
  {
   "cell_type": "code",
   "execution_count": 217,
   "id": "053ce9aa-5165-44fc-b5ba-3e26a4d0e36f",
   "metadata": {},
   "outputs": [
    {
     "data": {
      "text/plain": [
       "(3, 5)"
      ]
     },
     "execution_count": 217,
     "metadata": {},
     "output_type": "execute_result"
    }
   ],
   "source": [
    "a1.shape"
   ]
  },
  {
   "cell_type": "code",
   "execution_count": null,
   "id": "a935702c-0422-4434-b2fc-1c968221af01",
   "metadata": {},
   "outputs": [],
   "source": []
  },
  {
   "cell_type": "markdown",
   "id": "bbb53a6e-f983-402c-a44f-211820dd303b",
   "metadata": {},
   "source": [
    "### Mathematical operations"
   ]
  },
  {
   "cell_type": "code",
   "execution_count": 154,
   "id": "4cf1bc59-ba92-4449-b7a7-f17a02f6f749",
   "metadata": {},
   "outputs": [
    {
     "name": "stdout",
     "output_type": "stream",
     "text": [
      "[12, 14, 15, 17, 19, 30, 12, 14, 15, 17, 19, 30, 12, 14, 15, 17, 19, 30, 12, 14, 15, 17, 19, 30, 12, 14, 15, 17, 19, 30]\n"
     ]
    }
   ],
   "source": [
    "print(list1 * 5)"
   ]
  },
  {
   "cell_type": "code",
   "execution_count": 158,
   "id": "ef00b438-3d44-4cd7-a5a8-476d1642704b",
   "metadata": {},
   "outputs": [
    {
     "data": {
      "text/plain": [
       "[2.4, 2.8, 3.0, 3.4, 3.8, 6.0]"
      ]
     },
     "execution_count": 158,
     "metadata": {},
     "output_type": "execute_result"
    }
   ],
   "source": [
    "list1 = [12,14,15,17,19,30]\n",
    "# list1 / 5\n",
    "new_list = [i/5 for i in list1]\n",
    "new_list"
   ]
  },
  {
   "cell_type": "code",
   "execution_count": 159,
   "id": "209f064c-53d4-462b-8398-b121c8cce253",
   "metadata": {},
   "outputs": [
    {
     "data": {
      "text/plain": [
       "[112, 114, 115, 117, 119, 130]"
      ]
     },
     "execution_count": 159,
     "metadata": {},
     "output_type": "execute_result"
    }
   ],
   "source": [
    "list1 = [12,14,15,17,19,30]\n",
    "# list1 / 5\n",
    "new_list = [i+100 for i in list1]\n",
    "new_list"
   ]
  },
  {
   "cell_type": "code",
   "execution_count": 162,
   "id": "a12cf96a-f6c5-4149-a3dc-18aa13e39b19",
   "metadata": {},
   "outputs": [
    {
     "data": {
      "text/plain": [
       "array([22, 24, 25, 27, 29, 40])"
      ]
     },
     "execution_count": 162,
     "metadata": {},
     "output_type": "execute_result"
    }
   ],
   "source": [
    "list1 = [12,14,15,17,19,30]\n",
    "arr2 = np.array(list1)\n",
    "arr2 + 10 # 12 + 10, 14 + 10"
   ]
  },
  {
   "cell_type": "code",
   "execution_count": 164,
   "id": "da5c311b-f3a0-4e25-8b16-0c3f9e426534",
   "metadata": {},
   "outputs": [
    {
     "data": {
      "text/plain": [
       "array([2.4, 2.8, 3. , 3.4, 3.8, 6. ])"
      ]
     },
     "execution_count": 164,
     "metadata": {},
     "output_type": "execute_result"
    }
   ],
   "source": [
    "list1 = [12,14,15,17,19,30]\n",
    "arr2 = np.array(list1)\n",
    "arr2 / 5"
   ]
  },
  {
   "cell_type": "code",
   "execution_count": 174,
   "id": "bdefac3b-e934-4e75-93a2-0266a81355de",
   "metadata": {},
   "outputs": [
    {
     "data": {
      "text/plain": [
       "array([2.4, 2.8, 3. , 3.4, 3.8, 6. ])"
      ]
     },
     "execution_count": 174,
     "metadata": {},
     "output_type": "execute_result"
    }
   ],
   "source": [
    "list1 = [12,14,15,17,19,30]\n",
    "arr2 = np.array(list1)\n",
    "arr2 / 5"
   ]
  },
  {
   "cell_type": "markdown",
   "id": "15be0e88-d0bf-4b8c-8d08-9ac546ee9199",
   "metadata": {},
   "source": [
    "### Array to List"
   ]
  },
  {
   "cell_type": "code",
   "execution_count": 168,
   "id": "904b8221-6b04-4acf-823f-da20f6211fbd",
   "metadata": {},
   "outputs": [
    {
     "data": {
      "text/plain": [
       "[2.4, 2.8, 3.0, 3.4, 3.8, 6.0]"
      ]
     },
     "execution_count": 168,
     "metadata": {},
     "output_type": "execute_result"
    }
   ],
   "source": [
    "x = np.array([2.4, 2.8, 3. , 3.4, 3.8, 6. ])\n",
    "x.tolist()"
   ]
  },
  {
   "cell_type": "code",
   "execution_count": 170,
   "id": "62c8d1fc-23a7-4989-a54c-f8736d3d57ba",
   "metadata": {},
   "outputs": [
    {
     "data": {
      "text/plain": [
       "[2.4, 2.8, 3.0, 3.4, 3.8, 6.0]"
      ]
     },
     "execution_count": 170,
     "metadata": {},
     "output_type": "execute_result"
    }
   ],
   "source": [
    "x = np.array([2.4, 2.8, 3. , 3.4, 3.8, 6. ])\n",
    "list(x)"
   ]
  },
  {
   "cell_type": "code",
   "execution_count": null,
   "id": "23aed62d-3fad-48d9-8734-8b3bd9fe4bcd",
   "metadata": {},
   "outputs": [],
   "source": []
  },
  {
   "cell_type": "code",
   "execution_count": 172,
   "id": "c8bc04d9-4854-40bc-8dbf-b4f8b4e807e5",
   "metadata": {},
   "outputs": [
    {
     "data": {
      "text/plain": [
       "array([[[  5,   7,   8,   9,   2],\n",
       "        [ 50,  70,  80,  90,  20]],\n",
       "\n",
       "       [[ 51,  71,  81,  91,  21],\n",
       "        [501, 710, 810, 901, 210]]])"
      ]
     },
     "execution_count": 172,
     "metadata": {},
     "output_type": "execute_result"
    }
   ],
   "source": [
    "a1 = np.array([[[5,7,8,9,2],[50,70,80,90,20]],[[51,71,81,91,21],[501,710,810,901,210]]])\n",
    "a1"
   ]
  },
  {
   "cell_type": "code",
   "execution_count": 175,
   "id": "8afabeb3-c2f6-4ae0-98a5-7d490b7c9417",
   "metadata": {},
   "outputs": [
    {
     "data": {
      "text/plain": [
       "array([[[  50,   70,   80,   90,   20],\n",
       "        [ 500,  700,  800,  900,  200]],\n",
       "\n",
       "       [[ 510,  710,  810,  910,  210],\n",
       "        [5010, 7100, 8100, 9010, 2100]]])"
      ]
     },
     "execution_count": 175,
     "metadata": {},
     "output_type": "execute_result"
    }
   ],
   "source": [
    "a1 * 10"
   ]
  },
  {
   "cell_type": "code",
   "execution_count": null,
   "id": "22096032-88d5-4816-a30c-905a4927beaa",
   "metadata": {},
   "outputs": [],
   "source": []
  },
  {
   "cell_type": "markdown",
   "id": "42637192-a9a9-4db8-b367-28c20412dadc",
   "metadata": {},
   "source": [
    "### np.iinfo()"
   ]
  },
  {
   "cell_type": "code",
   "execution_count": 177,
   "id": "0f5a0f84-bf79-4e62-b3da-48cdbab97e3a",
   "metadata": {},
   "outputs": [
    {
     "data": {
      "text/plain": [
       "iinfo(min=-2147483648, max=2147483647, dtype=int32)"
      ]
     },
     "execution_count": 177,
     "metadata": {},
     "output_type": "execute_result"
    }
   ],
   "source": [
    "np.iinfo(int)"
   ]
  },
  {
   "cell_type": "code",
   "execution_count": 180,
   "id": "1c8b0eb8-6967-41d1-aef8-88c0358e14ba",
   "metadata": {},
   "outputs": [
    {
     "data": {
      "text/plain": [
       "iinfo(min=-128, max=127, dtype=int8)"
      ]
     },
     "execution_count": 180,
     "metadata": {},
     "output_type": "execute_result"
    }
   ],
   "source": [
    "np.iinfo('int8')"
   ]
  },
  {
   "cell_type": "code",
   "execution_count": 181,
   "id": "977cf076-c2d6-486c-b634-bce670a308cc",
   "metadata": {},
   "outputs": [],
   "source": [
    "x = 45"
   ]
  },
  {
   "cell_type": "code",
   "execution_count": 183,
   "id": "3037d253-2b78-4adb-b2ae-ad0105643d2a",
   "metadata": {},
   "outputs": [
    {
     "data": {
      "text/plain": [
       "iinfo(min=-32768, max=32767, dtype=int16)"
      ]
     },
     "execution_count": 183,
     "metadata": {},
     "output_type": "execute_result"
    }
   ],
   "source": [
    "np.iinfo('int16')"
   ]
  },
  {
   "cell_type": "code",
   "execution_count": 185,
   "id": "20307778-eb0b-470b-b24a-5dfbd8f841f6",
   "metadata": {},
   "outputs": [
    {
     "data": {
      "text/plain": [
       "iinfo(min=-2147483648, max=2147483647, dtype=int32)"
      ]
     },
     "execution_count": 185,
     "metadata": {},
     "output_type": "execute_result"
    }
   ],
   "source": [
    "np.iinfo('int32')"
   ]
  },
  {
   "cell_type": "code",
   "execution_count": 187,
   "id": "450af494-57f8-4143-805f-bfe79bb7ba96",
   "metadata": {},
   "outputs": [
    {
     "data": {
      "text/plain": [
       "iinfo(min=-9223372036854775808, max=9223372036854775807, dtype=int64)"
      ]
     },
     "execution_count": 187,
     "metadata": {},
     "output_type": "execute_result"
    }
   ],
   "source": [
    "np.iinfo('int64')"
   ]
  },
  {
   "cell_type": "code",
   "execution_count": 190,
   "id": "a9ea795d-28a2-40c1-878c-ef55fe675227",
   "metadata": {},
   "outputs": [],
   "source": [
    "# np.iinfo('int128')"
   ]
  },
  {
   "cell_type": "code",
   "execution_count": 218,
   "id": "7d56a43f-472f-4342-9115-c49e5aa42778",
   "metadata": {},
   "outputs": [],
   "source": [
    "# np.iinfo('float64')"
   ]
  },
  {
   "cell_type": "code",
   "execution_count": 220,
   "id": "05569c45-4d86-44e0-88fb-085e4fbdbb45",
   "metadata": {},
   "outputs": [
    {
     "data": {
      "text/plain": [
       "array([[3, 4, 5, 6, 7],\n",
       "       [3, 4, 5, 6, 7]])"
      ]
     },
     "execution_count": 220,
     "metadata": {},
     "output_type": "execute_result"
    }
   ],
   "source": [
    "array1 = np.array([[3,4,5,6,7],[3,4,5,6,7]])\n",
    "array1"
   ]
  },
  {
   "cell_type": "code",
   "execution_count": 221,
   "id": "2fd86192-acdb-4e48-b63b-c9598c4447c7",
   "metadata": {},
   "outputs": [
    {
     "data": {
      "text/plain": [
       "array([[3. , 4. , 5. , 6. , 7. ],\n",
       "       [3. , 4. , 5.1, 6. , 7. ]])"
      ]
     },
     "execution_count": 221,
     "metadata": {},
     "output_type": "execute_result"
    }
   ],
   "source": [
    "array1 = np.array([[3,4,5,6,7],[3,4,5.1,6,7]])\n",
    "array1"
   ]
  }
 ],
 "metadata": {
  "kernelspec": {
   "display_name": "Python 3 (ipykernel)",
   "language": "python",
   "name": "python3"
  },
  "language_info": {
   "codemirror_mode": {
    "name": "ipython",
    "version": 3
   },
   "file_extension": ".py",
   "mimetype": "text/x-python",
   "name": "python",
   "nbconvert_exporter": "python",
   "pygments_lexer": "ipython3",
   "version": "3.11.6"
  }
 },
 "nbformat": 4,
 "nbformat_minor": 5
}
