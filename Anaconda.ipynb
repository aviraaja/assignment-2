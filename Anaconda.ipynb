{
 "cells": [
  {
   "cell_type": "markdown",
   "id": "25bda362-0476-4144-a610-3ded7bc234ae",
   "metadata": {},
   "source": [
    "### Anaconda"
   ]
  },
  {
   "cell_type": "code",
   "execution_count": null,
   "id": "c33b5c82-fb3d-4aaa-9ca1-25d5e6d70c31",
   "metadata": {},
   "outputs": [],
   "source": [
    "Conda Environments\n",
    "\n",
    "credit_risk:2024\n",
    "    python 3.11\n",
    "    sklearn=1.1.0\n",
    "    tensorflow=2.7\n",
    "    nltk\n",
    "    pandas = 2.2.0\n",
    "    numpy=1.26.3\n",
    "    matplotlib\n",
    "    seaborn\n",
    "    plotly\n",
    "    mlxtend\n",
    "    skfeature\n",
    "    os\n",
    "    glob\n",
    "    re\n",
    "    SciPy\n",
    "    statsmodels\n",
    "\n",
    "house_price: 2021\n",
    "    python 3.8\n",
    "    sklearn=0.9.1\n",
    "    tensorflow=2.1\n",
    "    nltk\n",
    "    pandas = 1.8.1\n",
    "    numpy=1.3.2\n",
    "    matplotlib\n",
    "    seaborn\n",
    "    plotly\n",
    "    mlxtend\n",
    "    skfeature\n",
    "    os\n",
    "    glob\n",
    "    re\n",
    "    SciPy\n",
    "    statsmodels"
   ]
  },
  {
   "cell_type": "code",
   "execution_count": null,
   "id": "9297c447-204c-49c5-8250-636c019f74ce",
   "metadata": {},
   "outputs": [],
   "source": [
    "Project1: 2022\n",
    "    sklearn=1.1.0\n",
    "    tensorflow\n",
    "    nltk\n",
    "    pandas\n",
    "    numpy\n",
    "    transformers >> 1.3.4\n",
    "\n",
    "Project2: 2024\n",
    "    sklearn=1.2.2\n",
    "    tensorflow\n",
    "    pandas\n",
    "    numpy\n",
    "    transformers >> 4.37.2"
   ]
  },
  {
   "cell_type": "code",
   "execution_count": null,
   "id": "ca41ef6c-3dab-4980-93bf-ba2cb091a1c2",
   "metadata": {},
   "outputs": [],
   "source": [
    "pip install transformers=1.3.4"
   ]
  },
  {
   "cell_type": "markdown",
   "id": "ef29fe68-3c6c-40d1-a648-09b3a79d589f",
   "metadata": {},
   "source": [
    "### Download Anaconda Navigator"
   ]
  },
  {
   "cell_type": "code",
   "execution_count": null,
   "id": "6c9beddf-ffb2-4c19-a63d-9473ed7b9e5b",
   "metadata": {},
   "outputs": [],
   "source": [
    "https://www.anaconda.com/download"
   ]
  },
  {
   "cell_type": "markdown",
   "id": "3c2accf2-4548-4c97-8e9a-ca5411df47ea",
   "metadata": {},
   "source": [
    "### 1. Create Conda Environment"
   ]
  },
  {
   "cell_type": "code",
   "execution_count": null,
   "id": "013cf967-3b1d-44e8-b518-fd44bc76da98",
   "metadata": {},
   "outputs": [],
   "source": [
    "conda create -n env_name\n",
    "conda create -name env_name\n",
    "\n",
    "conda create -n project_name\n",
    "\n",
    "ex. conda create -n house_price_prediction"
   ]
  },
  {
   "cell_type": "markdown",
   "id": "b3990883-228e-4fcf-8fbc-4875c0c24941",
   "metadata": {},
   "source": [
    "#### 1.1 Create Conda env with specific python version"
   ]
  },
  {
   "cell_type": "code",
   "execution_count": null,
   "id": "901e41c3-bf0c-4751-a38f-1f4d67b5c406",
   "metadata": {},
   "outputs": [],
   "source": [
    "conda create -n env_name conda create -n env_name python=3.10\n",
    "conda create -n env_name conda create -n env_name python=3.10.2\n",
    "\n",
    "conda create -n env_name conda create -n env_name python=3.11.5\n",
    "conda create -n env_name conda create -n env_name python=3.12.5\n",
    "\n",
    "conda create -n project_name"
   ]
  },
  {
   "cell_type": "markdown",
   "id": "380067f2-68c2-480f-980a-14e11f8458f1",
   "metadata": {},
   "source": [
    "#### 1.2 Create Conda Env using YML File"
   ]
  },
  {
   "cell_type": "code",
   "execution_count": null,
   "id": "f69e3224-c956-4bc3-8769-d35b3ae23034",
   "metadata": {},
   "outputs": [],
   "source": [
    "requirements.yml\n",
    "\n",
    "conda env create --file credit_fraud.yml\n",
    "conda env create -f credit_fraud.yml\n",
    "conda env create -f credit_fraud.yaml\n"
   ]
  },
  {
   "cell_type": "markdown",
   "id": "a596433f-678d-4037-9906-b3b5192ca223",
   "metadata": {},
   "source": [
    "#### 1.3 Create Conda env using requirements.txt file"
   ]
  },
  {
   "cell_type": "code",
   "execution_count": null,
   "id": "2f26eefa-ac21-41af-bc68-6ccda82b2cf5",
   "metadata": {},
   "outputs": [],
   "source": [
    "conda create --name test --file credit_requirements.txt"
   ]
  },
  {
   "cell_type": "code",
   "execution_count": null,
   "id": "813a22bb-bd3f-402b-bfa1-ad3fe972419b",
   "metadata": {},
   "outputs": [],
   "source": []
  },
  {
   "cell_type": "markdown",
   "id": "42f2b5ce-1dba-48bf-9c6c-24bfe3c787f9",
   "metadata": {},
   "source": [
    "### 2. Activate Conda Env"
   ]
  },
  {
   "cell_type": "code",
   "execution_count": null,
   "id": "9506a603-dfe7-4810-b688-aa4cee25d72e",
   "metadata": {},
   "outputs": [],
   "source": [
    "conda activate env_name\n",
    "\n",
    "conda activate house_price_prediction\n",
    "\n",
    "(env_name) PS C:\\Users\\rahul>\n",
    "\n",
    "(house_price_prediction) PS C:\\Users\\rahul>"
   ]
  },
  {
   "cell_type": "markdown",
   "id": "cc1aa7a2-2b24-4ecf-8936-a61c941465cc",
   "metadata": {},
   "source": [
    "### 3. Deactivate Conda Env"
   ]
  },
  {
   "cell_type": "code",
   "execution_count": null,
   "id": "15ed8a7a-dd9c-4059-bc31-412246685350",
   "metadata": {},
   "outputs": [],
   "source": [
    "conda deactivate\n",
    "\n",
    "Conda env name is not required"
   ]
  },
  {
   "cell_type": "markdown",
   "id": "9c6a85ef-ab67-4ad1-8a40-9982b67d81b9",
   "metadata": {},
   "source": [
    "### 4. Conda Env List"
   ]
  },
  {
   "cell_type": "code",
   "execution_count": null,
   "id": "6248b1bc-f48c-4be7-ab11-fc9ad663bfaf",
   "metadata": {},
   "outputs": [],
   "source": [
    "conda env list"
   ]
  },
  {
   "cell_type": "markdown",
   "id": "2e40e0a0-8d6c-48c1-8cd8-f2bffed433ed",
   "metadata": {},
   "source": [
    "### 5. Delete Conda Env"
   ]
  },
  {
   "cell_type": "code",
   "execution_count": null,
   "id": "900b4f80-62c0-4cec-87d4-c6df2a5cf7a2",
   "metadata": {},
   "outputs": [],
   "source": [
    "conda env remove -n env_name\n",
    "\n",
    "conda env remove -n house_price_prediction"
   ]
  },
  {
   "cell_type": "markdown",
   "id": "f336d452-0b70-423f-86a1-16f3459d85cc",
   "metadata": {},
   "source": [
    "### 6. Install Libraries in Conda Env"
   ]
  },
  {
   "cell_type": "code",
   "execution_count": null,
   "id": "11da06c9-4919-47c7-93ca-8d2de2ceee24",
   "metadata": {},
   "outputs": [],
   "source": [
    "conda install library_name\n",
    "\n",
    "conda install pandas\n",
    "conda install flask\n",
    "conda install pdf2image\n",
    "\n",
    "conda install -c anaconda flask\n",
    "conda install -c anaconda seaborn\n",
    "\n",
    "conda install conda-forge::flask-script\n",
    "\n",
    "conda install conda-forge::pdf2image\n",
    "\n",
    "https://anaconda.org/conda-forge/package_name"
   ]
  },
  {
   "cell_type": "markdown",
   "id": "4ccfc18f-91f2-4829-955a-d40a5fe527d1",
   "metadata": {},
   "source": [
    "##### Jupyter notebook"
   ]
  },
  {
   "cell_type": "code",
   "execution_count": null,
   "id": "9144d005-f46a-499d-a3b3-2c964f5e58a7",
   "metadata": {},
   "outputs": [],
   "source": [
    "conda install nb_conda_kernels\n",
    "\n",
    "conda install conda-forge::nb_conda_kernels"
   ]
  },
  {
   "cell_type": "markdown",
   "id": "376b19cf-01ee-4e2c-8281-d9b39fa8af52",
   "metadata": {},
   "source": [
    "### 7. List all packages in active env"
   ]
  },
  {
   "cell_type": "code",
   "execution_count": null,
   "id": "226675a7-2514-4fe9-805e-c8269ac08639",
   "metadata": {},
   "outputs": [],
   "source": [
    "conda list"
   ]
  },
  {
   "cell_type": "markdown",
   "id": "66cbaf21-6f76-473d-bcc5-02b343258ed4",
   "metadata": {},
   "source": [
    "### 8. Create conda env YML file"
   ]
  },
  {
   "cell_type": "code",
   "execution_count": null,
   "id": "a4d6a7ea-ad38-4a7e-a95b-4205c786a4e9",
   "metadata": {},
   "outputs": [],
   "source": [
    "conda export > env_name.yml\n",
    "conda export > env_name.yaml\n",
    "\n",
    "conda list --export > credit_requirements.txt\n",
    "conda list -e > credit_requirements.txt"
   ]
  },
  {
   "cell_type": "markdown",
   "id": "66e9ae8b-6d34-414a-8bc5-43e36a9a54ad",
   "metadata": {},
   "source": [
    "### 9. copy env "
   ]
  },
  {
   "cell_type": "code",
   "execution_count": null,
   "id": "6c1d3542-4d09-4cc0-8398-202b6dae770c",
   "metadata": {},
   "outputs": [],
   "source": [
    "conda create -n target_env --clone source_env"
   ]
  },
  {
   "cell_type": "code",
   "execution_count": null,
   "id": "2a2e5fad-bced-41a3-8a9a-a95cf28a51c3",
   "metadata": {},
   "outputs": [],
   "source": []
  },
  {
   "cell_type": "code",
   "execution_count": 1,
   "id": "129fc2ca-5f80-4dbd-9fc9-90afa1f3ebe0",
   "metadata": {},
   "outputs": [],
   "source": [
    "import pandas"
   ]
  },
  {
   "cell_type": "code",
   "execution_count": 2,
   "id": "2d1e02da-0920-4e35-8fdd-7f3848fcebce",
   "metadata": {},
   "outputs": [
    {
     "ename": "ModuleNotFoundError",
     "evalue": "No module named 'pdf2image'",
     "output_type": "error",
     "traceback": [
      "\u001b[1;31m---------------------------------------------------------------------------\u001b[0m",
      "\u001b[1;31mModuleNotFoundError\u001b[0m                       Traceback (most recent call last)",
      "Cell \u001b[1;32mIn[2], line 1\u001b[0m\n\u001b[1;32m----> 1\u001b[0m \u001b[38;5;28;01mimport\u001b[39;00m \u001b[38;5;21;01mpdf2image\u001b[39;00m\n",
      "\u001b[1;31mModuleNotFoundError\u001b[0m: No module named 'pdf2image'"
     ]
    }
   ],
   "source": [
    "import pdf2image"
   ]
  }
 ],
 "metadata": {
  "kernelspec": {
   "display_name": "Python 3 (ipykernel)",
   "language": "python",
   "name": "python3"
  },
  "language_info": {
   "codemirror_mode": {
    "name": "ipython",
    "version": 3
   },
   "file_extension": ".py",
   "mimetype": "text/x-python",
   "name": "python",
   "nbconvert_exporter": "python",
   "pygments_lexer": "ipython3",
   "version": "3.11.6"
  }
 },
 "nbformat": 4,
 "nbformat_minor": 5
}
