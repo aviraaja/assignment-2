{
 "cells": [
  {
   "cell_type": "markdown",
   "id": "7722b8ff",
   "metadata": {},
   "source": [
    "# Q1. How do you comment code in Python? What are the different types of comments? "
   ]
  },
  {
   "cell_type": "markdown",
   "id": "3a360cf0",
   "metadata": {},
   "source": [
    "when we have to use comment in python we are using (#) before starting comments for example\n"
   ]
  },
  {
   "cell_type": "code",
   "execution_count": 9,
   "id": "6aa0e7f3",
   "metadata": {},
   "outputs": [
    {
     "name": "stdout",
     "output_type": "stream",
     "text": [
      "z= 11\n"
     ]
    }
   ],
   "source": [
    "a=5\n",
    "b=6\n",
    "z=a+b  # addition of a and b is equal to z \n",
    "print('z=',z)"
   ]
  },
  {
   "cell_type": "markdown",
   "id": "189af206",
   "metadata": {},
   "source": [
    "in this given code (# addition of a and b is equal to z ) is comment on the code whis is note disterbed to your code even help to developer to read the code.\n",
    "\n",
    "we have another type of comment as well \n",
    "if comment is going to one or more 1 line then can simply use \"\"\"comments\"\"\"  or '''comments'''"
   ]
  },
  {
   "cell_type": "markdown",
   "id": "3f45771a",
   "metadata": {},
   "source": [
    "# Q2. What are variables in Python? How do you declare and assign values to variables?"
   ]
  },
  {
   "cell_type": "markdown",
   "id": "6507a664",
   "metadata": {},
   "source": [
    "ans - in a computer programing and mathamatics variable is a fundamental concept to use to store and manipulating  data. variable can be symbolic name which can be store data in the form of - numbers , alfabate ,datatype etc"
   ]
  },
  {
   "cell_type": "code",
   "execution_count": 1,
   "id": "96780dbf",
   "metadata": {},
   "outputs": [
    {
     "name": "stdout",
     "output_type": "stream",
     "text": [
      "sum of a and b is: 11\n"
     ]
    }
   ],
   "source": [
    "# variable assignment \n",
    "\n",
    "a=5\n",
    "b=6\n",
    "print('sum of a and b is:',a+b)"
   ]
  },
  {
   "cell_type": "markdown",
   "id": "9b4f3635",
   "metadata": {},
   "source": [
    "above the given code has 2 variable a and b where assigning the values are 5 and 6 ."
   ]
  },
  {
   "cell_type": "markdown",
   "id": "b179eacc",
   "metadata": {},
   "source": [
    "# Q3. How do you convert one data type to another in Python?"
   ]
  },
  {
   "cell_type": "markdown",
   "id": "1b4b44b8",
   "metadata": {},
   "source": [
    "in a python we can convert 1 data type to another data type by using conversion function or following method we can use -\n",
    "\n",
    "1. type casting\n",
    "\n",
    "int(): Converts to an integer.\n",
    "\n",
    "float(): Converts to a floating-point number.\n",
    "\n",
    "str(): Converts to a string.\n",
    "\n",
    "list(): Converts to a list.\n",
    "\n",
    "tuple(): Converts to a tuple.\n",
    "\n",
    "bool(): Converts to a boolean."
   ]
  },
  {
   "cell_type": "code",
   "execution_count": 8,
   "id": "d446d572",
   "metadata": {},
   "outputs": [
    {
     "data": {
      "text/plain": [
       "int"
      ]
     },
     "execution_count": 8,
     "metadata": {},
     "output_type": "execute_result"
    }
   ],
   "source": [
    "a=10.5\n",
    "b=int(a)  #perfact example of type casting \n",
    "type(b)"
   ]
  },
  {
   "cell_type": "raw",
   "id": "405258b4",
   "metadata": {},
   "source": [
    "2. Concatenation: -  function to convert non-string values to strings when you want to concatenate them with other strings."
   ]
  },
  {
   "cell_type": "code",
   "execution_count": 11,
   "id": "220214e7",
   "metadata": {},
   "outputs": [
    {
     "data": {
      "text/plain": [
       "'sanodiya26'"
      ]
     },
     "execution_count": 11,
     "metadata": {},
     "output_type": "execute_result"
    }
   ],
   "source": [
    "a= 26\n",
    "b= 'sanodiya'\n",
    "z= b+ str(a)   # perfact example of concatenation \n",
    "z"
   ]
  },
  {
   "cell_type": "markdown",
   "id": "62ac5b9f",
   "metadata": {},
   "source": [
    "# Q4. How do you write and execute a Python script from the command line?\n",
    "\n",
    "To write and execute a Python script from the command line:\n",
    "\n",
    "Write Your Python Script:---    Create a .py file with your Python code.\n",
    "\n",
    "Open the Command Line Interface:---     Open your computer's command prompt or terminal.\n",
    "\n",
    "Navigate to the Script's Directory (Optional):--     Use the cd command to go to the script's directory.\n",
    "\n",
    "Execute the Script:--     Run the script with the python command followed by the script's filename, like this: python myscript.py."
   ]
  },
  {
   "cell_type": "markdown",
   "id": "880dcd76",
   "metadata": {},
   "source": [
    "# Q5. Given a list my_list = [1, 2, 3, 4, 5], write the code to slice the list and obtain the sub-list [2, 3]."
   ]
  },
  {
   "cell_type": "code",
   "execution_count": 15,
   "id": "79746f9d",
   "metadata": {},
   "outputs": [
    {
     "data": {
      "text/plain": [
       "[2, 3]"
      ]
     },
     "execution_count": 15,
     "metadata": {},
     "output_type": "execute_result"
    }
   ],
   "source": [
    "my_list = [1,2,3,4,5]\n",
    "my_list[1:3]"
   ]
  },
  {
   "cell_type": "markdown",
   "id": "dbdeec93",
   "metadata": {},
   "source": [
    "# Q6. What is a complex number in mathematics, and how is it represented in Python?"
   ]
  },
  {
   "cell_type": "markdown",
   "id": "5a80c262",
   "metadata": {},
   "source": [
    "in a mathamatics A complex number consists of two parts: a real part and an imaginary part. The general form of a complex number is written as:"
   ]
  },
  {
   "cell_type": "code",
   "execution_count": 17,
   "id": "61fbd481",
   "metadata": {},
   "outputs": [
    {
     "data": {
      "text/plain": [
       "(3+2j)"
      ]
     },
     "execution_count": 17,
     "metadata": {},
     "output_type": "execute_result"
    }
   ],
   "source": [
    "# represention of complex number \n",
    "\n",
    "3+2j  # given number is a complex number "
   ]
  },
  {
   "cell_type": "markdown",
   "id": "99f84aed",
   "metadata": {},
   "source": [
    "# Q7. What is the correct way to declare a variable named age and assign the value 25 to it?"
   ]
  },
  {
   "cell_type": "code",
   "execution_count": 18,
   "id": "43afc351",
   "metadata": {},
   "outputs": [],
   "source": [
    "age = 25 "
   ]
  },
  {
   "cell_type": "markdown",
   "id": "231351db",
   "metadata": {},
   "source": [
    "# Q8. Declare a variable named price and assign the value 9.99 to it. What data type does this variable\n",
    "belong to?"
   ]
  },
  {
   "cell_type": "code",
   "execution_count": 20,
   "id": "1abf0900",
   "metadata": {},
   "outputs": [
    {
     "data": {
      "text/plain": [
       "float"
      ]
     },
     "execution_count": 20,
     "metadata": {},
     "output_type": "execute_result"
    }
   ],
   "source": [
    "price = 9.99\n",
    "type(price)"
   ]
  },
  {
   "cell_type": "markdown",
   "id": "7a8ed53c",
   "metadata": {},
   "source": [
    "# Q9. Create a variable named name and assign your full name to it as a string. How would you print the value of this variable?"
   ]
  },
  {
   "cell_type": "code",
   "execution_count": 21,
   "id": "9df01fcc",
   "metadata": {},
   "outputs": [
    {
     "name": "stdout",
     "output_type": "stream",
     "text": [
      "name\n"
     ]
    }
   ],
   "source": [
    "name = 'avadhesh sanodiya'\n",
    "print('name')"
   ]
  },
  {
   "cell_type": "markdown",
   "id": "02d06ef6",
   "metadata": {},
   "source": [
    "# Q10. Given the string \"Hello, World!\", extract the substring \"World\"."
   ]
  },
  {
   "cell_type": "code",
   "execution_count": 28,
   "id": "26828d83",
   "metadata": {},
   "outputs": [
    {
     "data": {
      "text/plain": [
       "'world'"
      ]
     },
     "execution_count": 28,
     "metadata": {},
     "output_type": "execute_result"
    }
   ],
   "source": [
    "a = 'hello ,world!'\n",
    "a[7:12]"
   ]
  },
  {
   "cell_type": "markdown",
   "id": "f43c3f31",
   "metadata": {},
   "source": [
    "# Q11. Create a variable named \"is_student\" and assign it a boolean value indicating whether you are currently a student or not.\n"
   ]
  },
  {
   "cell_type": "code",
   "execution_count": null,
   "id": "012b4e26",
   "metadata": {},
   "outputs": [],
   "source": [
    "is_student = True  # If you are a student\n",
    "# or\n",
    "is_student = False  # If you are not a student\n"
   ]
  }
 ],
 "metadata": {
  "kernelspec": {
   "display_name": "Python 3 (ipykernel)",
   "language": "python",
   "name": "python3"
  },
  "language_info": {
   "codemirror_mode": {
    "name": "ipython",
    "version": 3
   },
   "file_extension": ".py",
   "mimetype": "text/x-python",
   "name": "python",
   "nbconvert_exporter": "python",
   "pygments_lexer": "ipython3",
   "version": "3.9.12"
  }
 },
 "nbformat": 4,
 "nbformat_minor": 5
}
