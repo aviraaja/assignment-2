{
 "cells": [
  {
   "cell_type": "markdown",
   "id": "d5ca3497-f000-472a-b345-74c3dfe4d2a5",
   "metadata": {},
   "source": [
    "### Numpy-Linear Algebra"
   ]
  },
  {
   "cell_type": "code",
   "execution_count": 1,
   "id": "c639cbdd-0e22-47c2-9df2-dd041ecd2ef8",
   "metadata": {},
   "outputs": [],
   "source": [
    "import numpy as np"
   ]
  },
  {
   "cell_type": "code",
   "execution_count": null,
   "id": "1e6f7b74-ed09-414f-b5a6-a62b5b77aff4",
   "metadata": {},
   "outputs": [],
   "source": [
    "1. np.linalg:\n",
    "    1. np.linalg.solve()\n",
    "    2. np.linalg.det()\n",
    "    3. np.linalg.inv()\n",
    "    4. np.linalg.eigvals()\n",
    "    5. np.linalg.eig()\n",
    "\n",
    "2. np.polynomial.Polynomial():\n",
    "    eq.roots()\n"
   ]
  },
  {
   "cell_type": "code",
   "execution_count": null,
   "id": "279feabc-c857-4ab8-9365-88afc96099c5",
   "metadata": {},
   "outputs": [],
   "source": [
    "2x + 3y = 10\n",
    "5x + 8y = 30\n",
    "x = ? -10\n",
    "y = ? 10"
   ]
  },
  {
   "cell_type": "code",
   "execution_count": null,
   "id": "1e35f240-3622-4db6-803e-985f6e1655f4",
   "metadata": {},
   "outputs": [],
   "source": [
    "2x + 3y + 5z= 10\n",
    "5x + 8y + 10z= 30\n",
    "4x + 7y + 8z= 30\n",
    "\n",
    "x = ? -10\n",
    "y = ? 10\n",
    "z = ?"
   ]
  },
  {
   "cell_type": "code",
   "execution_count": null,
   "id": "21d0a7bb-b378-4963-bd83-152527fed844",
   "metadata": {},
   "outputs": [],
   "source": [
    "2x + 3y = 10\n",
    "5x + 8y = 30\n",
    "\n",
    "2 * -10 + 3 * 10 >> 10"
   ]
  },
  {
   "cell_type": "code",
   "execution_count": null,
   "id": "39e7aaa1-fb47-4bf1-82ff-2897d08c5381",
   "metadata": {},
   "outputs": [],
   "source": [
    "matrx >> 2-dimensional array"
   ]
  },
  {
   "cell_type": "code",
   "execution_count": 3,
   "id": "f12132c1-20cb-4746-be1f-41b1cc1a328d",
   "metadata": {},
   "outputs": [
    {
     "data": {
      "text/plain": [
       "array([[3, 4],\n",
       "       [7, 8]])"
      ]
     },
     "execution_count": 3,
     "metadata": {},
     "output_type": "execute_result"
    }
   ],
   "source": [
    "arr = np.array([[3,4],[7,8]])\n",
    "arr"
   ]
  },
  {
   "cell_type": "code",
   "execution_count": 5,
   "id": "80e6fc55-b01c-49bd-9cb7-3754744d4d6c",
   "metadata": {},
   "outputs": [
    {
     "data": {
      "text/plain": [
       "array([[3, 4, 5],\n",
       "       [7, 8, 7]])"
      ]
     },
     "execution_count": 5,
     "metadata": {},
     "output_type": "execute_result"
    }
   ],
   "source": [
    "arr = np.array([[3,4,5],[7,8,7]])\n",
    "arr"
   ]
  },
  {
   "cell_type": "markdown",
   "id": "7ee7ccdf-6604-4ee7-8e5d-68510fdabdb7",
   "metadata": {},
   "source": [
    "### 1. np.linalg.solve()"
   ]
  },
  {
   "cell_type": "code",
   "execution_count": null,
   "id": "e00ca981-df9d-4500-a28d-dca7c55372cd",
   "metadata": {},
   "outputs": [],
   "source": [
    "2x + 3y = 10\n",
    "5x + 8y = 30"
   ]
  },
  {
   "cell_type": "code",
   "execution_count": 8,
   "id": "a3fd8f87-78c0-4a6f-90f6-46f2b13a68e5",
   "metadata": {},
   "outputs": [
    {
     "data": {
      "text/plain": [
       "array([[2, 3],\n",
       "       [5, 8]])"
      ]
     },
     "execution_count": 8,
     "metadata": {},
     "output_type": "execute_result"
    }
   ],
   "source": [
    "arrayA = np.array([[2,3],[5,8]])\n",
    "arrayA"
   ]
  },
  {
   "cell_type": "code",
   "execution_count": 9,
   "id": "9cd763dd-539d-4a79-a9fc-286e835c0655",
   "metadata": {},
   "outputs": [],
   "source": [
    "arrayB =  np.array([10,30])"
   ]
  },
  {
   "cell_type": "code",
   "execution_count": 11,
   "id": "a2f693f2-2c2e-4c8c-b364-53003ed90888",
   "metadata": {},
   "outputs": [
    {
     "data": {
      "text/plain": [
       "array([-10.,  10.])"
      ]
     },
     "execution_count": 11,
     "metadata": {},
     "output_type": "execute_result"
    }
   ],
   "source": [
    "np.linalg.solve(arrayA,arrayB)"
   ]
  },
  {
   "cell_type": "code",
   "execution_count": null,
   "id": "2add847a-02de-4d83-ba3c-920bd31388c0",
   "metadata": {},
   "outputs": [],
   "source": [
    "2x + 3y + 5z= 10\n",
    "5x + 8y + 10z = 30\n",
    "4x + 7y + 8z = 20\n"
   ]
  },
  {
   "cell_type": "code",
   "execution_count": 13,
   "id": "0c17a733-2088-4444-a363-cdf99ab26194",
   "metadata": {},
   "outputs": [
    {
     "data": {
      "text/plain": [
       "array([[ 2,  3,  5],\n",
       "       [ 5,  8, 10],\n",
       "       [ 4,  7,  8]])"
      ]
     },
     "execution_count": 13,
     "metadata": {},
     "output_type": "execute_result"
    }
   ],
   "source": [
    "arrayA = np.array([[2,3,5],[5,8,10],[4,7,8]])\n",
    "arrayA"
   ]
  },
  {
   "cell_type": "code",
   "execution_count": 15,
   "id": "b7a828c3-3da6-4a31-8ca6-cbd4dbf28721",
   "metadata": {},
   "outputs": [
    {
     "data": {
      "text/plain": [
       "array([10, 30, 20])"
      ]
     },
     "execution_count": 15,
     "metadata": {},
     "output_type": "execute_result"
    }
   ],
   "source": [
    "arrayB =  np.array([10,30,20])\n",
    "arrayB"
   ]
  },
  {
   "cell_type": "code",
   "execution_count": 16,
   "id": "68d304ce-5cb9-49ba-ad17-bf9c7aaefef6",
   "metadata": {},
   "outputs": [
    {
     "data": {
      "text/plain": [
       "array([23.33333333, -6.66666667, -3.33333333])"
      ]
     },
     "execution_count": 16,
     "metadata": {},
     "output_type": "execute_result"
    }
   ],
   "source": [
    "np.linalg.solve(arrayA,arrayB)"
   ]
  },
  {
   "cell_type": "code",
   "execution_count": 18,
   "id": "be5cf6f1-7929-4b9d-8e6e-c9de642cd9e4",
   "metadata": {},
   "outputs": [
    {
     "data": {
      "text/plain": [
       "19.989999999999995"
      ]
     },
     "execution_count": 18,
     "metadata": {},
     "output_type": "execute_result"
    }
   ],
   "source": [
    "4 * 23.33 + 7*-6.67 + 8*-3.33"
   ]
  },
  {
   "cell_type": "code",
   "execution_count": null,
   "id": "5c3e3857-f3e3-49fb-b494-519994d18d94",
   "metadata": {},
   "outputs": [],
   "source": []
  },
  {
   "cell_type": "markdown",
   "id": "caada3f6-96f2-4652-a889-c166af3744b2",
   "metadata": {},
   "source": [
    "### Deteminant of Matrix"
   ]
  },
  {
   "cell_type": "code",
   "execution_count": null,
   "id": "c60b3014-88eb-4b18-88b5-93102067166b",
   "metadata": {},
   "outputs": [],
   "source": [
    "A = a   b\n",
    "    c   d\n",
    "\n",
    "|A| = ad-bc"
   ]
  },
  {
   "cell_type": "code",
   "execution_count": 20,
   "id": "2c2b024c-7ac2-4e30-9c3d-a43b82fa9418",
   "metadata": {},
   "outputs": [
    {
     "data": {
      "text/plain": [
       "array([[2, 3],\n",
       "       [5, 8]])"
      ]
     },
     "execution_count": 20,
     "metadata": {},
     "output_type": "execute_result"
    }
   ],
   "source": [
    "arrayA = np.array([[2,3],[5,8]])\n",
    "arrayA"
   ]
  },
  {
   "cell_type": "code",
   "execution_count": 21,
   "id": "b8969b98-def4-48e2-9613-2cafdfd1bc07",
   "metadata": {},
   "outputs": [
    {
     "data": {
      "text/plain": [
       "1.0000000000000009"
      ]
     },
     "execution_count": 21,
     "metadata": {},
     "output_type": "execute_result"
    }
   ],
   "source": [
    "np.linalg.det(arrayA)"
   ]
  },
  {
   "cell_type": "code",
   "execution_count": 23,
   "id": "4a32a219-baa1-4e8b-a8af-c0c9293dea99",
   "metadata": {},
   "outputs": [
    {
     "data": {
      "text/plain": [
       "array([[ 2,  3,  5],\n",
       "       [ 5,  8, 10],\n",
       "       [ 4,  7,  8]])"
      ]
     },
     "execution_count": 23,
     "metadata": {},
     "output_type": "execute_result"
    }
   ],
   "source": [
    "arrayA = np.array([[2,3,5],[5,8,10],[4,7,8]])\n",
    "arrayA"
   ]
  },
  {
   "cell_type": "code",
   "execution_count": 25,
   "id": "b784e085-a903-4c19-8eb5-92801868f602",
   "metadata": {},
   "outputs": [
    {
     "data": {
      "text/plain": [
       "2.9999999999999982"
      ]
     },
     "execution_count": 25,
     "metadata": {},
     "output_type": "execute_result"
    }
   ],
   "source": [
    "np.linalg.det(arrayA)"
   ]
  },
  {
   "cell_type": "markdown",
   "id": "cb770ce5-42d3-4989-b0b8-0c0c1e128b51",
   "metadata": {},
   "source": [
    "### Inverse of matrix "
   ]
  },
  {
   "cell_type": "code",
   "execution_count": 26,
   "id": "33d27d59-4231-4a3a-9aad-ad4ba634c4a7",
   "metadata": {},
   "outputs": [
    {
     "data": {
      "text/plain": [
       "array([[2, 3],\n",
       "       [5, 8]])"
      ]
     },
     "execution_count": 26,
     "metadata": {},
     "output_type": "execute_result"
    }
   ],
   "source": [
    "arrayA = np.array([[2,3],[5,8]])\n",
    "arrayA"
   ]
  },
  {
   "cell_type": "code",
   "execution_count": 27,
   "id": "15256fb2-1063-46fe-ba3b-9f5699eeefcb",
   "metadata": {},
   "outputs": [
    {
     "data": {
      "text/plain": [
       "array([[ 8., -3.],\n",
       "       [-5.,  2.]])"
      ]
     },
     "execution_count": 27,
     "metadata": {},
     "output_type": "execute_result"
    }
   ],
   "source": [
    "np.linalg.inv(arrayA)"
   ]
  },
  {
   "cell_type": "code",
   "execution_count": 28,
   "id": "c62b626b-fc1b-443f-a6f4-8a9bf00482da",
   "metadata": {},
   "outputs": [
    {
     "data": {
      "text/plain": [
       "array([[-2.        ,  3.66666667, -3.33333333],\n",
       "       [ 0.        , -1.33333333,  1.66666667],\n",
       "       [ 1.        , -0.66666667,  0.33333333]])"
      ]
     },
     "execution_count": 28,
     "metadata": {},
     "output_type": "execute_result"
    }
   ],
   "source": [
    "arrayA = np.array([[2,3,5],[5,8,10],[4,7,8]])\n",
    "np.linalg.inv(arrayA)"
   ]
  },
  {
   "cell_type": "code",
   "execution_count": null,
   "id": "87fbbd76-0ab5-4a62-95aa-7f8685868b6e",
   "metadata": {},
   "outputs": [],
   "source": []
  },
  {
   "cell_type": "markdown",
   "id": "63c76b7d-aef2-4328-8034-4e561e3a3ab5",
   "metadata": {},
   "source": [
    "### eigen values and eigen vector"
   ]
  },
  {
   "cell_type": "code",
   "execution_count": null,
   "id": "32eea681-981c-4ef0-bc9b-93652a495c13",
   "metadata": {},
   "outputs": [],
   "source": [
    "PCA"
   ]
  },
  {
   "cell_type": "code",
   "execution_count": 29,
   "id": "ae5075ac-1ceb-4334-ad07-8500b6f0790c",
   "metadata": {},
   "outputs": [
    {
     "data": {
      "text/plain": [
       "array([[2, 3],\n",
       "       [5, 8]])"
      ]
     },
     "execution_count": 29,
     "metadata": {},
     "output_type": "execute_result"
    }
   ],
   "source": [
    "arrayA = np.array([[2,3],[5,8]])\n",
    "arrayA"
   ]
  },
  {
   "cell_type": "code",
   "execution_count": 32,
   "id": "daeb7eae-6684-4406-99ed-03be747df601",
   "metadata": {},
   "outputs": [
    {
     "data": {
      "text/plain": [
       "array([0.10102051, 9.89897949])"
      ]
     },
     "execution_count": 32,
     "metadata": {},
     "output_type": "execute_result"
    }
   ],
   "source": [
    "np.linalg.eigvals(arrayA)"
   ]
  },
  {
   "cell_type": "code",
   "execution_count": 34,
   "id": "623e0806-0cb7-4af3-9c37-597950c8b925",
   "metadata": {},
   "outputs": [],
   "source": [
    "eigenvalues, eigenvectors = np.linalg.eig(arrayA)"
   ]
  },
  {
   "cell_type": "code",
   "execution_count": 36,
   "id": "010b197a-20cf-480c-a712-0e39a0871a67",
   "metadata": {},
   "outputs": [
    {
     "data": {
      "text/plain": [
       "array([0.10102051, 9.89897949])"
      ]
     },
     "execution_count": 36,
     "metadata": {},
     "output_type": "execute_result"
    }
   ],
   "source": [
    "eigenvalues"
   ]
  },
  {
   "cell_type": "code",
   "execution_count": 37,
   "id": "404723a6-52d4-4366-8ee5-6313491ab519",
   "metadata": {},
   "outputs": [
    {
     "data": {
      "text/plain": [
       "array([[-0.84494897, -0.35505103],\n",
       "       [ 0.53484692, -0.93484692]])"
      ]
     },
     "execution_count": 37,
     "metadata": {},
     "output_type": "execute_result"
    }
   ],
   "source": [
    "eigenvectors"
   ]
  },
  {
   "cell_type": "code",
   "execution_count": null,
   "id": "7ca45fa6-0ae0-48ab-a988-f218cbd0ea46",
   "metadata": {},
   "outputs": [],
   "source": []
  },
  {
   "cell_type": "markdown",
   "id": "1df7c903-aced-4ce7-a5d5-33393aa1dad9",
   "metadata": {},
   "source": [
    "### Polynomial equations"
   ]
  },
  {
   "cell_type": "code",
   "execution_count": null,
   "id": "f4ca6809-97f5-44de-bf80-19b60cb85f9d",
   "metadata": {},
   "outputs": [],
   "source": [
    "x2 -5x + 6 = 0\n",
    "x = 3 , 2\n",
    "x - 3 = 0 >> x = 3\n",
    "9 - 15 + 6 = 0\n",
    "\n",
    "x - 2 = 0 >> x = 2\n",
    "4 - 10 + 6 = 0\n",
    "\n",
    "ax2 + bx + c = 0\n",
    "\n",
    "x1 = -b+np.sqrt(b2 - 4ac)/2a"
   ]
  },
  {
   "cell_type": "code",
   "execution_count": 41,
   "id": "2505f72b-6af2-4918-8455-8d91cdc702fa",
   "metadata": {},
   "outputs": [
    {
     "data": {
      "text/plain": [
       "array([2., 3.])"
      ]
     },
     "execution_count": 41,
     "metadata": {},
     "output_type": "execute_result"
    }
   ],
   "source": [
    "from numpy.polynomial import Polynomial\n",
    "# x2 -5x + 6 = 0\n",
    "a = 1\n",
    "b = -5\n",
    "c = 6\n",
    "eq = Polynomial([c,b,a])\n",
    "eq.roots()"
   ]
  },
  {
   "cell_type": "code",
   "execution_count": 42,
   "id": "b9751dbf-1514-4987-88cc-7c3800712dff",
   "metadata": {},
   "outputs": [
    {
     "data": {
      "text/plain": [
       "array([-3.19792459+0.j        ,  0.76562896-0.98859817j,\n",
       "        0.76562896+0.98859817j])"
      ]
     },
     "execution_count": 42,
     "metadata": {},
     "output_type": "execute_result"
    }
   ],
   "source": [
    "# 3x^3 + 5x^2 -10x + 15 = 0\n",
    "eq = Polynomial([15,-10,5,3])\n",
    "eq.roots()"
   ]
  },
  {
   "cell_type": "code",
   "execution_count": null,
   "id": "16510f8b-eaab-4595-b370-64fbe9fa7a17",
   "metadata": {},
   "outputs": [],
   "source": []
  },
  {
   "cell_type": "code",
   "execution_count": null,
   "id": "de2b53fd-f9c5-408e-b98f-9c09cc7fd467",
   "metadata": {},
   "outputs": [],
   "source": []
  },
  {
   "cell_type": "code",
   "execution_count": 44,
   "id": "a772ddf3-801b-4c41-8c2e-947d0a5437b2",
   "metadata": {},
   "outputs": [
    {
     "data": {
      "text/plain": [
       "array([  2,   3, 500,   8])"
      ]
     },
     "execution_count": 44,
     "metadata": {},
     "output_type": "execute_result"
    }
   ],
   "source": [
    "arrayA = np.array([2,3,5,8])\n",
    "arrayA[2] = 500\n",
    "arrayA"
   ]
  },
  {
   "cell_type": "code",
   "execution_count": 45,
   "id": "0bca4dd1-fd0f-4d70-a21d-7cbfbc70a8e0",
   "metadata": {},
   "outputs": [
    {
     "data": {
      "text/plain": [
       "array([ 6,  7,  9, 12])"
      ]
     },
     "execution_count": 45,
     "metadata": {},
     "output_type": "execute_result"
    }
   ],
   "source": [
    "arrayA = np.array([2,3,5,8])\n",
    "arrayA + 4"
   ]
  },
  {
   "cell_type": "code",
   "execution_count": null,
   "id": "380feb27-6fd8-4c47-9997-065a5e18a1d2",
   "metadata": {},
   "outputs": [],
   "source": []
  }
 ],
 "metadata": {
  "kernelspec": {
   "display_name": "Python 3 (ipykernel)",
   "language": "python",
   "name": "python3"
  },
  "language_info": {
   "codemirror_mode": {
    "name": "ipython",
    "version": 3
   },
   "file_extension": ".py",
   "mimetype": "text/x-python",
   "name": "python",
   "nbconvert_exporter": "python",
   "pygments_lexer": "ipython3",
   "version": "3.11.6"
  }
 },
 "nbformat": 4,
 "nbformat_minor": 5
}
